{
 "cells": [
  {
   "cell_type": "code",
   "execution_count": 28,
   "metadata": {
    "ExecuteTime": {
     "end_time": "2017-09-18T16:14:58.158942Z",
     "start_time": "2017-09-18T11:14:58.143826-05:00"
    },
    "collapsed": true
   },
   "outputs": [],
   "source": [
    "import pandas as pd"
   ]
  },
  {
   "cell_type": "code",
   "execution_count": 62,
   "metadata": {
    "ExecuteTime": {
     "end_time": "2017-09-18T16:43:55.598021Z",
     "start_time": "2017-09-18T11:43:55.030972-05:00"
    },
    "collapsed": true
   },
   "outputs": [],
   "source": [
    "A = pd.read_csv('../datasets/sample_citeseer_100k.csv')\n",
    "B = pd.read_csv('../datasets/sample_dblp_100k.csv')\n",
    "A = A.head(5000)\n",
    "B = A.head(5000)"
   ]
  },
  {
   "cell_type": "code",
   "execution_count": 30,
   "metadata": {
    "ExecuteTime": {
     "end_time": "2017-09-18T16:14:59.371235Z",
     "start_time": "2017-09-18T11:14:59.366460-05:00"
    },
    "collapsed": true
   },
   "outputs": [],
   "source": [
    "lid = 'id'\n",
    "rid = 'id'\n",
    "l_attrs = ['id', 'title', 'authors']\n",
    "r_attrs = ['id', 'title', 'authors']"
   ]
  },
  {
   "cell_type": "code",
   "execution_count": 31,
   "metadata": {
    "ExecuteTime": {
     "end_time": "2017-09-18T16:14:59.822160Z",
     "start_time": "2017-09-18T11:14:59.815249-05:00"
    },
    "collapsed": true
   },
   "outputs": [],
   "source": [
    "        A.set_index(lid, inplace=True, drop=False)\n",
    "        B.set_index(rid, inplace=True, drop=False)\n"
   ]
  },
  {
   "cell_type": "code",
   "execution_count": 47,
   "metadata": {
    "ExecuteTime": {
     "end_time": "2017-09-18T16:27:06.538771Z",
     "start_time": "2017-09-18T11:27:06.534735-05:00"
    },
    "collapsed": true
   },
   "outputs": [],
   "source": [
    "from py_stringmatching import Levenshtein\n",
    "lev = Levenshtein()\n"
   ]
  },
  {
   "cell_type": "code",
   "execution_count": 69,
   "metadata": {
    "ExecuteTime": {
     "end_time": "2017-09-18T16:44:50.671793Z",
     "start_time": "2017-09-18T11:44:50.659075-05:00"
    },
    "collapsed": true
   },
   "outputs": [],
   "source": [
    "\n",
    "def blacbox_fn(ltuple, rtuple):\n",
    "    t1, a1 = ltuple['title'], ltuple['authors']\n",
    "    if pd.isnull(t1) or pd.isnull(a1):\n",
    "        return True\n",
    "    t2, a2 = rtuple['title'], rtuple['authors']\n",
    "    if pd.isnull(t2) or pd.isnull(a2):\n",
    "        return True\n",
    "    if abs(len(t1) -len(t2)) < 6 or abs(len(a1) -len(a2)) < 5:\n",
    "        return False\n",
    "        \n",
    "\n",
    "#     ta1 = t1.lower() + ' ' + a1.lower()\n",
    "#     ta2 = t2.lower() + ' ' + a2.lower()\n",
    "#     s1 = ta1.split()\n",
    "#     s2 = ta2.split()\n",
    "\n",
    "#     s3 = set(s1).intersection(s2)\n",
    "#     if len(s3) > 5:\n",
    "#         return False\n",
    "\n",
    "    return True"
   ]
  },
  {
   "cell_type": "code",
   "execution_count": 63,
   "metadata": {
    "ExecuteTime": {
     "end_time": "2017-09-18T16:43:59.652158Z",
     "start_time": "2017-09-18T11:43:58.949597-05:00"
    },
    "collapsed": true
   },
   "outputs": [],
   "source": [
    "\n",
    "A1 = A[l_attrs].T.to_dict()\n",
    "B1 = B[r_attrs].T.to_dict()"
   ]
  },
  {
   "cell_type": "code",
   "execution_count": 64,
   "metadata": {
    "ExecuteTime": {
     "end_time": "2017-09-18T16:44:00.433924Z",
     "start_time": "2017-09-18T11:44:00.429351-05:00"
    },
    "collapsed": true
   },
   "outputs": [],
   "source": [
    "k1 = A1.keys()\n",
    "k2 = B1.keys()"
   ]
  },
  {
   "cell_type": "code",
   "execution_count": 70,
   "metadata": {
    "ExecuteTime": {
     "end_time": "2017-09-18T16:46:17.542522Z",
     "start_time": "2017-09-18T11:45:00.969014-05:00"
    }
   },
   "outputs": [],
   "source": [
    "\n",
    "\n",
    "for a in k1:\n",
    "    x = A1[a]\n",
    "    for b in k2:\n",
    "        y = B1[b]\n",
    "        _ = blacbox_fn(x, y)\n",
    "    "
   ]
  },
  {
   "cell_type": "code",
   "execution_count": 71,
   "metadata": {
    "ExecuteTime": {
     "end_time": "2017-09-18T16:46:42.910644Z",
     "start_time": "2017-09-18T11:46:42.904701-05:00"
    },
    "collapsed": true
   },
   "outputs": [],
   "source": [
    "xx = [B1[a] for a in k2]"
   ]
  },
  {
   "cell_type": "code",
   "execution_count": 74,
   "metadata": {
    "ExecuteTime": {
     "end_time": "2017-09-18T16:48:42.457275Z",
     "start_time": "2017-09-18T11:48:42.453358-05:00"
    }
   },
   "outputs": [],
   "source": [
    "xx[0]\n",
    "n = len(xx)\n",
    "kk = list(range(n))"
   ]
  },
  {
   "cell_type": "code",
   "execution_count": 73,
   "metadata": {
    "ExecuteTime": {
     "end_time": "2017-09-18T16:48:09.760554Z",
     "start_time": "2017-09-18T11:46:57.848079-05:00"
    },
    "collapsed": true
   },
   "outputs": [],
   "source": [
    "for a in k1:\n",
    "    x = A1[a]\n",
    "    for b in range(n):\n",
    "        _ = blacbox_fn(x, b)\n",
    "        "
   ]
  },
  {
   "cell_type": "code",
   "execution_count": 75,
   "metadata": {
    "ExecuteTime": {
     "end_time": "2017-09-18T16:51:21.540969Z",
     "start_time": "2017-09-18T11:50:06.522951-05:00"
    },
    "collapsed": true
   },
   "outputs": [],
   "source": [
    "for a in k1:\n",
    "    x = A1[a]\n",
    "    i= 0\n",
    "    while i < n:\n",
    "        _ = blacbox_fn(x, xx[i])\n",
    "        i += 1\n",
    "        "
   ]
  }
 ],
 "metadata": {
  "kernelspec": {
   "display_name": "Python 2",
   "language": "python",
   "name": "python2"
  },
  "language_info": {
   "codemirror_mode": {
    "name": "ipython",
    "version": 2
   },
   "file_extension": ".py",
   "mimetype": "text/x-python",
   "name": "python",
   "nbconvert_exporter": "python",
   "pygments_lexer": "ipython2",
   "version": "2.7.13"
  }
 },
 "nbformat": 4,
 "nbformat_minor": 2
}
