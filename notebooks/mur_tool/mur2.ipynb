{
 "cells": [
  {
   "cell_type": "code",
   "execution_count": 1,
   "metadata": {
    "ExecuteTime": {
     "end_time": "2017-09-16T19:30:02.992197Z",
     "start_time": "2017-09-16T14:30:02.034573-05:00"
    },
    "collapsed": true
   },
   "outputs": [],
   "source": [
    "import pandas as pd\n",
    "import string\n",
    "import numpy as np\n",
    "import math"
   ]
  },
  {
   "cell_type": "code",
   "execution_count": 5,
   "metadata": {
    "ExecuteTime": {
     "end_time": "2017-09-16T19:31:29.789694Z",
     "start_time": "2017-09-16T14:31:29.226178-05:00"
    },
    "collapsed": true
   },
   "outputs": [],
   "source": [
    "A = pd.read_csv('../../datasets/sample_citeseer_100k.csv')\n",
    "B = pd.read_csv('../../datasets/sample_dblp_100k.csv')\n",
    "l_block_attr = 'title'\n",
    "r_block_attr = 'title'\n",
    "ltable = A\n",
    "rtable = B\n",
    "lid = 'id'\n",
    "rid = 'id'"
   ]
  },
  {
   "cell_type": "code",
   "execution_count": 21,
   "metadata": {
    "ExecuteTime": {
     "end_time": "2017-09-16T19:37:31.666391Z",
     "start_time": "2017-09-16T14:37:31.590938-05:00"
    },
    "collapsed": true
   },
   "outputs": [],
   "source": [
    "def remove_stopwords(tokens, stopwords):\n",
    "    out_tokens = []\n",
    "    for token in tokens:\n",
    "        if not stopwords.has_key(token):\n",
    "            out_tokens.append(token)\n",
    "    return out_tokens\n",
    "#----------\n",
    "def process_column(column, stop_words):\n",
    "    column = column.str.translate(None, string.punctuation)\n",
    "    column = column.str.lower()\n",
    "    if stop_words:\n",
    "        dict_stopwords = dict(zip(self.stop_words, [0] * len(self.stop_words)))\n",
    "        partial_rm_stopwords_fn = partial(remove_stopwords,\n",
    "                                          stopwords=dict_stopwords)\n",
    "        column = column.str.split().map(partial_rm_stopwords_fn).str.join(' ')\n",
    "    return column\n",
    "#----------\n",
    "def sample_ltable(ltable, lid, l_block_attr, nbins, sample_proportion, seed=0, stopwords=[]):\n",
    "    ltbl = ltable[[lid, l_block_attr]]\n",
    "    ltbl = ltbl[~ltbl[l_block_attr].isnull()]\n",
    "    #process columns\n",
    "    ltbl[l_block_attr] = process_column(ltbl[l_block_attr], [])\n",
    "    n = int(math.floor(sample_proportion*len(ltable)))\n",
    "        \n",
    "    # get the string lengths\n",
    "    ltbl['str_len'] = ltbl.title.str.len()\n",
    "    groups = ltbl.groupby('str_len')\n",
    "    len_ids = {}\n",
    "    for gid, g in groups:\n",
    "        len_ids[gid] = list(g[lid].values)\n",
    "    strlens = list(ltbl['str_len'].values)\n",
    "    strlens += [max(strlens)+1]\n",
    "    \n",
    "    freq, edges = np.histogram(strlens, bins=nbins)\n",
    "\n",
    "    \n",
    "    bins = [[] for _ in range(nbins)]\n",
    "    keys = sorted(len_ids.keys())\n",
    "    positions = np.digitize(keys, edges)\n",
    "    \n",
    "    for i in range(len(keys)):\n",
    "        k, p = keys[i], positions[i]\n",
    "        bins[p-1].extend(len_ids[k])\n",
    "    len_bins = [len(bins[i]) for i in range(len(bins))]\n",
    "\n",
    "    \n",
    "    weights = [len_bins[i]/float(sum(len_bins)) for i in range(len(bins))]\n",
    "    numtups = [int(math.ceil(weights[i]*n)) for i in range(len(weights))]\n",
    "    numtups, sum(numtups)\n",
    "    sampled = []\n",
    "    for i in range(len(bins)):\n",
    "        nt = numtups[i]\n",
    "        np.random.seed(seed)\n",
    "        if len(bins[i]):\n",
    "            tmp = np.random.choice(bins[i], nt)\n",
    "            if len(tmp):\n",
    "                sampled.extend(tmp)\n",
    "    ltable.set_index(lid, inplace=True, drop=False)\n",
    "    return ltable.loc[sampled]\n",
    "    "
   ]
  },
  {
   "cell_type": "code",
   "execution_count": 36,
   "metadata": {
    "ExecuteTime": {
     "end_time": "2017-09-16T20:24:34.559618Z",
     "start_time": "2017-09-16T15:24:34.552791-05:00"
    },
    "collapsed": true
   },
   "outputs": [],
   "source": [
    "    import dmagellan\n",
    "    from dmagellan.utils.py_utils.utils import build_inv_index, tokenize_strings\n",
    "    from dmagellan.tokenizer.whitespacetokenizer import WhiteSpaceTokenizer\n",
    "    from dmagellan.utils.cy_utils.stringcontainer import StringContainer\n",
    "    from dmagellan.blocker.overlap.overlapblocker import OverlapBlocker\n"
   ]
  },
  {
   "cell_type": "code",
   "execution_count": 37,
   "metadata": {
    "ExecuteTime": {
     "end_time": "2017-09-16T20:24:43.707204Z",
     "start_time": "2017-09-16T15:24:43.703086-05:00"
    },
    "collapsed": true
   },
   "outputs": [],
   "source": [
    "ob = OverlapBlocker()"
   ]
  },
  {
   "cell_type": "code",
   "execution_count": 27,
   "metadata": {
    "ExecuteTime": {
     "end_time": "2017-09-16T19:38:11.175773Z",
     "start_time": "2017-09-16T14:38:10.768791-05:00"
    }
   },
   "outputs": [
    {
     "name": "stdout",
     "output_type": "stream",
     "text": [
      "10004\n"
     ]
    },
    {
     "data": {
      "text/plain": [
       "[154773, 958200, 625919, 1308726, 904416, 1032734, 29223, 961373, 200980]"
      ]
     },
     "execution_count": 27,
     "metadata": {},
     "output_type": "execute_result"
    }
   ],
   "source": [
    "nbins = 10\n",
    "sample_proportion = 0.1\n",
    "s_ltable = sample_ltable(ltable, lid, l_block_attr, nbins, sample_proportion)"
   ]
  },
  {
   "cell_type": "code",
   "execution_count": 49,
   "metadata": {
    "ExecuteTime": {
     "end_time": "2017-09-16T20:50:10.191005Z",
     "start_time": "2017-09-16T15:50:08.361154-05:00"
    }
   },
   "outputs": [],
   "source": [
    "tok = WhiteSpaceTokenizer()\n",
    "ob = OverlapBlocker()\n",
    "p = ob.process_and_tokenize_ltable(ltable, 'id', 'title', tok, [])\n",
    "inv_index = build_inv_index([p])"
   ]
  },
  {
   "cell_type": "code",
   "execution_count": 51,
   "metadata": {
    "ExecuteTime": {
     "end_time": "2017-09-16T20:50:44.987910Z",
     "start_time": "2017-09-16T15:50:44.982365-05:00"
    }
   },
   "outputs": [
    {
     "data": {
      "text/plain": [
       "<dmagellan.tokenizer.whitespacetokenizer.WhiteSpaceTokenizer at 0x121b6a120>"
      ]
     },
     "execution_count": 51,
     "metadata": {},
     "output_type": "execute_result"
    }
   ],
   "source": [
    "tok"
   ]
  },
  {
   "cell_type": "code",
   "execution_count": 83,
   "metadata": {
    "ExecuteTime": {
     "end_time": "2017-09-16T21:16:52.654610Z",
     "start_time": "2017-09-16T16:16:50.351097-05:00"
    }
   },
   "outputs": [],
   "source": [
    "# tbl = rtable[[lid, l_block_attr]]\n",
    "# tbl = tbl[~tbl[r_block_attr].isnull()]\n",
    "# #process columns\n",
    "# tbl[r_block_attr] = process_column(tbl[r_block_attr], [])\n",
    "# n = int(math.floor(sample_proportion*len(rtable)))\n",
    "ob = OverlapBlocker()\n",
    "tok = WhiteSpaceTokenizer()\n",
    "rtable.reset_index(inplace=True, drop=True)\n",
    "rtable['_pos'] = list(range(len(rtable)))\n",
    "\n",
    "\n",
    "x = ob.process_and_tokenize_ltable(rtable, 'id', 'title', tok, [])\n",
    "d = {}\n",
    "t = {}\n",
    "for i in range(x.size()):\n",
    "    tid, tokens = x.get(i)\n",
    "    cnt = 0\n",
    "    for tok in tokens:\n",
    "        if tok not in t:\n",
    "            t[tok] = len(inv_index.values(tok))            \n",
    "        cnt += t[tok]\n",
    "    d[tid] = cnt"
   ]
  },
  {
   "cell_type": "code",
   "execution_count": 84,
   "metadata": {
    "ExecuteTime": {
     "end_time": "2017-09-16T21:17:08.126755Z",
     "start_time": "2017-09-16T16:16:57.827807-05:00"
    },
    "collapsed": true
   },
   "outputs": [],
   "source": [
    "df = pd.DataFrame(d.items(), columns=['id', 'count'])\n",
    "groups = df.groupby('count')\n",
    "cnt_ids = {}\n",
    "for gid, g in groups:\n",
    "    cnt_ids[gid] = list(g[lid].values)\n"
   ]
  },
  {
   "cell_type": "code",
   "execution_count": 85,
   "metadata": {
    "ExecuteTime": {
     "end_time": "2017-09-16T21:17:10.023672Z",
     "start_time": "2017-09-16T16:17:09.994182-05:00"
    }
   },
   "outputs": [],
   "source": [
    "cnts = list(df['count'].values)\n",
    "cnts += [max(cnts)+1]\n",
    "nbins = 10    \n",
    "freq, edges = np.histogram(cnts, bins=nbins)\n",
    "seed = 0"
   ]
  },
  {
   "cell_type": "code",
   "execution_count": 86,
   "metadata": {
    "ExecuteTime": {
     "end_time": "2017-09-16T21:17:13.706671Z",
     "start_time": "2017-09-16T16:17:13.545947-05:00"
    }
   },
   "outputs": [],
   "source": [
    "sample_proportion = 0.1\n",
    "n = int(math.floor(sample_proportion*len(ltable)))\n",
    "bins = [[] for _ in range(nbins)]\n",
    "keys = sorted(cnt_ids.keys())\n",
    "positions = np.digitize(keys, edges)\n",
    "    \n",
    "for i in range(len(keys)):\n",
    "    k, p = keys[i], positions[i]\n",
    "    bins[p-1].extend(cnt_ids[k])\n",
    "len_bins = [len(bins[i]) for i in range(len(bins))]\n",
    "\n",
    "    \n",
    "weights = [len_bins[i]/float(sum(len_bins)) for i in range(len(bins))]\n",
    "numtups = [int(math.ceil(weights[i]*n)) for i in range(len(weights))]\n",
    "\n",
    "sampled = []\n",
    "for i in range(len(bins)):\n",
    "    nt = numtups[i]\n",
    "    np.random.seed(seed)\n",
    "    if len(bins[i]):\n",
    "        tmp = np.random.choice(bins[i], nt)\n",
    "        if len(tmp):\n",
    "            sampled.extend(tmp)\n",
    "rtable.set_index(rid, inplace=True, drop=False)\n",
    "s_rtable = rtable.loc[sampled]"
   ]
  },
  {
   "cell_type": "code",
   "execution_count": 88,
   "metadata": {
    "ExecuteTime": {
     "end_time": "2017-09-16T21:17:29.470175Z",
     "start_time": "2017-09-16T16:17:29.463790-05:00"
    }
   },
   "outputs": [],
   "source": [
    "g = s_rtable.sort_values('_pos')"
   ]
  },
  {
   "cell_type": "code",
   "execution_count": 89,
   "metadata": {
    "ExecuteTime": {
     "end_time": "2017-09-16T21:17:33.529988Z",
     "start_time": "2017-09-16T16:17:33.502676-05:00"
    }
   },
   "outputs": [
    {
     "data": {
      "text/html": [
       "<div>\n",
       "<style>\n",
       "    .dataframe thead tr:only-child th {\n",
       "        text-align: right;\n",
       "    }\n",
       "\n",
       "    .dataframe thead th {\n",
       "        text-align: left;\n",
       "    }\n",
       "\n",
       "    .dataframe tbody tr th {\n",
       "        vertical-align: top;\n",
       "    }\n",
       "</style>\n",
       "<table border=\"1\" class=\"dataframe\">\n",
       "  <thead>\n",
       "    <tr style=\"text-align: right;\">\n",
       "      <th></th>\n",
       "      <th>id</th>\n",
       "      <th>title</th>\n",
       "      <th>authors</th>\n",
       "      <th>journal</th>\n",
       "      <th>month</th>\n",
       "      <th>year</th>\n",
       "      <th>publication_type</th>\n",
       "      <th>_pos</th>\n",
       "    </tr>\n",
       "    <tr>\n",
       "      <th>id</th>\n",
       "      <th></th>\n",
       "      <th></th>\n",
       "      <th></th>\n",
       "      <th></th>\n",
       "      <th></th>\n",
       "      <th></th>\n",
       "      <th></th>\n",
       "      <th></th>\n",
       "    </tr>\n",
       "  </thead>\n",
       "  <tbody>\n",
       "    <tr>\n",
       "      <th>1709973</th>\n",
       "      <td>1709973</td>\n",
       "      <td>Introduction to the special issue on object-ba...</td>\n",
       "      <td>Fernando Pereira, Shih-Fu Chang, Rob Koenen, A...</td>\n",
       "      <td>IEEE Trans. Circuits Syst. Video Techn.</td>\n",
       "      <td>NaN</td>\n",
       "      <td>1999</td>\n",
       "      <td>article</td>\n",
       "      <td>1</td>\n",
       "    </tr>\n",
       "    <tr>\n",
       "      <th>2065604</th>\n",
       "      <td>2065604</td>\n",
       "      <td>Two-sided matching with interdependent values.</td>\n",
       "      <td>Archishman Chakraborty, Alessandro Citanna, Mi...</td>\n",
       "      <td>J. Economic Theory</td>\n",
       "      <td>NaN</td>\n",
       "      <td>2010</td>\n",
       "      <td>article</td>\n",
       "      <td>21</td>\n",
       "    </tr>\n",
       "    <tr>\n",
       "      <th>1044095</th>\n",
       "      <td>1044095</td>\n",
       "      <td>MuSoft: Multimedia in der Softwaretechnik.</td>\n",
       "      <td>Klaus Alfert, Ernst-Erich Doberkat, Gregor Eng...</td>\n",
       "      <td>NaN</td>\n",
       "      <td>NaN</td>\n",
       "      <td>2003</td>\n",
       "      <td>inproceedings</td>\n",
       "      <td>24</td>\n",
       "    </tr>\n",
       "    <tr>\n",
       "      <th>581644</th>\n",
       "      <td>581644</td>\n",
       "      <td>Dogear: Social bookmarking in the enterprise.</td>\n",
       "      <td>David R. Millen, Jonathan Feinberg, Bernard Kerr</td>\n",
       "      <td>NaN</td>\n",
       "      <td>NaN</td>\n",
       "      <td>2006</td>\n",
       "      <td>inproceedings</td>\n",
       "      <td>51</td>\n",
       "    </tr>\n",
       "    <tr>\n",
       "      <th>1393173</th>\n",
       "      <td>1393173</td>\n",
       "      <td>TCP: Thread Contention Predictor for Parallel ...</td>\n",
       "      <td>Aparna Mandke Dani, Bharadwaj Amrutur, Y. N. S...</td>\n",
       "      <td>NaN</td>\n",
       "      <td>NaN</td>\n",
       "      <td>2012</td>\n",
       "      <td>inproceedings</td>\n",
       "      <td>54</td>\n",
       "    </tr>\n",
       "  </tbody>\n",
       "</table>\n",
       "</div>"
      ],
      "text/plain": [
       "              id                                              title  \\\n",
       "id                                                                    \n",
       "1709973  1709973  Introduction to the special issue on object-ba...   \n",
       "2065604  2065604     Two-sided matching with interdependent values.   \n",
       "1044095  1044095         MuSoft: Multimedia in der Softwaretechnik.   \n",
       "581644    581644      Dogear: Social bookmarking in the enterprise.   \n",
       "1393173  1393173  TCP: Thread Contention Predictor for Parallel ...   \n",
       "\n",
       "                                                   authors  \\\n",
       "id                                                           \n",
       "1709973  Fernando Pereira, Shih-Fu Chang, Rob Koenen, A...   \n",
       "2065604  Archishman Chakraborty, Alessandro Citanna, Mi...   \n",
       "1044095  Klaus Alfert, Ernst-Erich Doberkat, Gregor Eng...   \n",
       "581644    David R. Millen, Jonathan Feinberg, Bernard Kerr   \n",
       "1393173  Aparna Mandke Dani, Bharadwaj Amrutur, Y. N. S...   \n",
       "\n",
       "                                         journal month  year publication_type  \\\n",
       "id                                                                              \n",
       "1709973  IEEE Trans. Circuits Syst. Video Techn.   NaN  1999          article   \n",
       "2065604                       J. Economic Theory   NaN  2010          article   \n",
       "1044095                                      NaN   NaN  2003    inproceedings   \n",
       "581644                                       NaN   NaN  2006    inproceedings   \n",
       "1393173                                      NaN   NaN  2012    inproceedings   \n",
       "\n",
       "         _pos  \n",
       "id             \n",
       "1709973     1  \n",
       "2065604    21  \n",
       "1044095    24  \n",
       "581644     51  \n",
       "1393173    54  "
      ]
     },
     "execution_count": 89,
     "metadata": {},
     "output_type": "execute_result"
    }
   ],
   "source": []
  },
  {
   "cell_type": "code",
   "execution_count": 75,
   "metadata": {
    "ExecuteTime": {
     "end_time": "2017-09-16T21:09:49.046730Z",
     "start_time": "2017-09-16T16:09:49.041264-05:00"
    }
   },
   "outputs": [
    {
     "data": {
      "text/plain": [
       "10005"
      ]
     },
     "execution_count": 75,
     "metadata": {},
     "output_type": "execute_result"
    }
   ],
   "source": [
    "len(s_rtable)"
   ]
  },
  {
   "cell_type": "code",
   "execution_count": 77,
   "metadata": {
    "ExecuteTime": {
     "end_time": "2017-09-16T21:10:51.021343Z",
     "start_time": "2017-09-16T16:10:51.017853-05:00"
    }
   },
   "outputs": [],
   "source": [
    "A.reset_index(inplace=True, drop=True)"
   ]
  },
  {
   "cell_type": "code",
   "execution_count": 78,
   "metadata": {
    "ExecuteTime": {
     "end_time": "2017-09-16T21:11:23.245537Z",
     "start_time": "2017-09-16T16:11:23.158157-05:00"
    },
    "collapsed": true
   },
   "outputs": [],
   "source": [
    "tt = zip(A.index.values, A['id'].values)"
   ]
  },
  {
   "cell_type": "code",
   "execution_count": 81,
   "metadata": {
    "ExecuteTime": {
     "end_time": "2017-09-16T21:13:24.515708Z",
     "start_time": "2017-09-16T16:13:24.347313-05:00"
    }
   },
   "outputs": [],
   "source": [
    "ttd = pd.DataFrame(dict(tt).items(), columns=['position', 'id'])"
   ]
  },
  {
   "cell_type": "code",
   "execution_count": 82,
   "metadata": {
    "ExecuteTime": {
     "end_time": "2017-09-16T21:13:30.638811Z",
     "start_time": "2017-09-16T16:13:30.628335-05:00"
    }
   },
   "outputs": [
    {
     "data": {
      "text/html": [
       "<div>\n",
       "<style>\n",
       "    .dataframe thead tr:only-child th {\n",
       "        text-align: right;\n",
       "    }\n",
       "\n",
       "    .dataframe thead th {\n",
       "        text-align: left;\n",
       "    }\n",
       "\n",
       "    .dataframe tbody tr th {\n",
       "        vertical-align: top;\n",
       "    }\n",
       "</style>\n",
       "<table border=\"1\" class=\"dataframe\">\n",
       "  <thead>\n",
       "    <tr style=\"text-align: right;\">\n",
       "      <th></th>\n",
       "      <th>position</th>\n",
       "      <th>id</th>\n",
       "    </tr>\n",
       "  </thead>\n",
       "  <tbody>\n",
       "    <tr>\n",
       "      <th>0</th>\n",
       "      <td>0</td>\n",
       "      <td>937228</td>\n",
       "    </tr>\n",
       "    <tr>\n",
       "      <th>1</th>\n",
       "      <td>1</td>\n",
       "      <td>752870</td>\n",
       "    </tr>\n",
       "    <tr>\n",
       "      <th>2</th>\n",
       "      <td>2</td>\n",
       "      <td>307594</td>\n",
       "    </tr>\n",
       "    <tr>\n",
       "      <th>3</th>\n",
       "      <td>3</td>\n",
       "      <td>156173</td>\n",
       "    </tr>\n",
       "    <tr>\n",
       "      <th>4</th>\n",
       "      <td>4</td>\n",
       "      <td>870908</td>\n",
       "    </tr>\n",
       "  </tbody>\n",
       "</table>\n",
       "</div>"
      ],
      "text/plain": [
       "   position      id\n",
       "0         0  937228\n",
       "1         1  752870\n",
       "2         2  307594\n",
       "3         3  156173\n",
       "4         4  870908"
      ]
     },
     "execution_count": 82,
     "metadata": {},
     "output_type": "execute_result"
    }
   ],
   "source": [
    "ttd.head()"
   ]
  }
 ],
 "metadata": {
  "kernelspec": {
   "display_name": "Python 2",
   "language": "python",
   "name": "python2"
  },
  "language_info": {
   "codemirror_mode": {
    "name": "ipython",
    "version": 2
   },
   "file_extension": ".py",
   "mimetype": "text/x-python",
   "name": "python",
   "nbconvert_exporter": "python",
   "pygments_lexer": "ipython2",
   "version": "2.7.13"
  }
 },
 "nbformat": 4,
 "nbformat_minor": 2
}
