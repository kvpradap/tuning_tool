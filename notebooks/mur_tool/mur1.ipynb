{
 "cells": [
  {
   "cell_type": "code",
   "execution_count": 52,
   "metadata": {
    "ExecuteTime": {
     "end_time": "2017-09-16T16:44:39.185963Z",
     "start_time": "2017-09-16T11:44:39.181630-05:00"
    },
    "collapsed": true
   },
   "outputs": [],
   "source": [
    "import pandas as pd\n",
    "import string\n",
    "import numpy as np\n",
    "import math"
   ]
  },
  {
   "cell_type": "code",
   "execution_count": 4,
   "metadata": {
    "ExecuteTime": {
     "end_time": "2017-09-16T16:15:21.798225Z",
     "start_time": "2017-09-16T11:15:21.269123-05:00"
    },
    "collapsed": true
   },
   "outputs": [],
   "source": [
    "A = pd.read_csv('../../datasets/sample_citeseer_100k.csv')\n",
    "B = pd.read_csv('../../datasets/sample_dblp_100k.csv')\n",
    "l_block_attr = 'title'\n",
    "r_block_attr = 'title'\n",
    "ltable = A\n",
    "rtable = B\n",
    "lid = 'id'\n",
    "rid = 'id'"
   ]
  },
  {
   "cell_type": "code",
   "execution_count": 5,
   "metadata": {
    "ExecuteTime": {
     "end_time": "2017-09-16T16:15:33.719591Z",
     "start_time": "2017-09-16T11:15:33.709457-05:00"
    },
    "collapsed": true
   },
   "outputs": [],
   "source": [
    "def remove_stopwords(tokens, stopwords):\n",
    "    out_tokens = []\n",
    "    for token in tokens:\n",
    "        if not stopwords.has_key(token):\n",
    "            out_tokens.append(token)\n",
    "    return out_tokens\n",
    "\n",
    "def process_column(column, stop_words):\n",
    "    column = column.str.translate(None, string.punctuation)\n",
    "    column = column.str.lower()\n",
    "    if stop_words:\n",
    "        dict_stopwords = dict(zip(self.stop_words, [0] * len(self.stop_words)))\n",
    "        partial_rm_stopwords_fn = partial(remove_stopwords,\n",
    "                                          stopwords=dict_stopwords)\n",
    "        column = column.str.split().map(partial_rm_stopwords_fn).str.join(' ')\n",
    "    return column\n",
    "def sample_ltable(ltable, lid, l_block_attr, nbins, sample_proportion, stopwords=[]):\n",
    "    ltbl = ltable[[lid, l_block_attr]]\n",
    "    ltbl = ltbl[~ltbl[l_block_attr].isnull()]\n",
    "    #process columns\n",
    "    ltbl[l_block_attr] = process_column(ltbl[l_block_attr], [])\n",
    "    n = int(math.floor(sample_proportion*len(ltable)))\n",
    "        \n",
    "    # get the string lengths\n",
    "    ltbl['str_len'] = ltbl.title.str.len()\n",
    "    groups = ltbl.group_by('str_len')\n",
    "    len_ids = {}\n",
    "    for gid, g in groups:\n",
    "        len_ids[gid] = list(g[lid].values)\n",
    "    strlens = list(ltbl['str_len'].values)\n",
    "    strlens += [max(strlens)+1]\n",
    "    \n",
    "    freq, edges = np.histogram(strlens, bins=nbins)\n",
    "\n",
    "    \n",
    "    bins = [[] for _ in range(10)]\n",
    "    keys = sorted(len_ids.keys())\n",
    "    positions = np.digitize(keys, edges)\n",
    "    \n",
    "    for i in range(len(keys)):\n",
    "        k, p = keys[i], positions[i]\n",
    "        bins[p-1].extend(len_ids[k])\n",
    "    len_bins = [len(bins[i]) for i in range(len(bins))]\n",
    "\n",
    "    \n",
    "    weights = [len_bins[i]/float(sum(len_bins)) for i in range(len(bins))]\n",
    "    numtups = [int(math.ceil(weights[i]*n)) for i in range(len(weights))]\n",
    "    numtups, sum(numtups)\n",
    "    sampled = []\n",
    "    for i in range(len(bins)):\n",
    "        nt = numtups[i]\n",
    "        np.random.seed(0)\n",
    "        if len(bins[i]):\n",
    "            tmp = np.random.choice(bins[i], nt)\n",
    "            if len(tmp):\n",
    "                sampled.extend(tmp)\n",
    "    ltable.set_index(lid, inplace=True, drop=False)\n",
    "    return ltable.iloc[sampled]\n",
    "    \n",
    "\n",
    "    "
   ]
  },
  {
   "cell_type": "code",
   "execution_count": 6,
   "metadata": {
    "ExecuteTime": {
     "end_time": "2017-09-16T16:15:50.059648Z",
     "start_time": "2017-09-16T11:15:49.941028-05:00"
    },
    "collapsed": true
   },
   "outputs": [],
   "source": [
    "import dmagellan\n",
    "from dmagellan.blocker.overlap.overlapblocker import OverlapBlocker"
   ]
  },
  {
   "cell_type": "code",
   "execution_count": 7,
   "metadata": {
    "ExecuteTime": {
     "end_time": "2017-09-16T16:15:51.657496Z",
     "start_time": "2017-09-16T11:15:51.382637-05:00"
    }
   },
   "outputs": [],
   "source": [
    "ltbl = ltable[[lid, l_block_attr]]\n",
    "ltbl = ltbl[~ltbl[l_block_attr].isnull()]\n",
    "ltbl[l_block_attr] = process_column(ltbl[l_block_attr], [])"
   ]
  },
  {
   "cell_type": "code",
   "execution_count": 10,
   "metadata": {
    "ExecuteTime": {
     "end_time": "2017-09-16T16:19:56.569594Z",
     "start_time": "2017-09-16T11:19:56.527022-05:00"
    }
   },
   "outputs": [],
   "source": [
    "ltbl['str_len'] = ltbl.title.str.len()"
   ]
  },
  {
   "cell_type": "code",
   "execution_count": 18,
   "metadata": {
    "ExecuteTime": {
     "end_time": "2017-09-16T16:26:59.134599Z",
     "start_time": "2017-09-16T11:26:59.126453-05:00"
    },
    "collapsed": true
   },
   "outputs": [],
   "source": [
    "ll = ltbl.set_index(lid, drop=False)\n",
    "ltable.set_index(lid, inplace=True, drop=False)"
   ]
  },
  {
   "cell_type": "code",
   "execution_count": 19,
   "metadata": {
    "ExecuteTime": {
     "end_time": "2017-09-16T16:27:03.506071Z",
     "start_time": "2017-09-16T11:27:03.494589-05:00"
    }
   },
   "outputs": [
    {
     "data": {
      "text/plain": [
       "id                                               899015\n",
       "title                                             , and\n",
       "authors             Miloslav Feistauer, Gerald Warnecke\n",
       "journal                                             NaN\n",
       "month                                               NaN\n",
       "year                                                NaN\n",
       "publication_type                                    NaN\n",
       "Name: 899015, dtype: object"
      ]
     },
     "execution_count": 19,
     "metadata": {},
     "output_type": "execute_result"
    }
   ],
   "source": [
    "ltable.loc[899015]"
   ]
  },
  {
   "cell_type": "code",
   "execution_count": 13,
   "metadata": {
    "ExecuteTime": {
     "end_time": "2017-09-16T16:23:23.042095Z",
     "start_time": "2017-09-16T11:23:23.037868-05:00"
    }
   },
   "outputs": [],
   "source": [
    "groups=(ltbl.groupby('str_len'))"
   ]
  },
  {
   "cell_type": "code",
   "execution_count": 116,
   "metadata": {
    "ExecuteTime": {
     "end_time": "2017-09-16T17:31:48.092229Z",
     "start_time": "2017-09-16T12:31:48.013105-05:00"
    }
   },
   "outputs": [],
   "source": [
    "len_ids = {}\n",
    "len_freq = {}\n",
    "for gid, g in groups:\n",
    "    len_ids[gid] = list(g[lid].values)\n",
    "    len_freq[gid] = len(len_ids[gid])\n",
    "    "
   ]
  },
  {
   "cell_type": "code",
   "execution_count": 101,
   "metadata": {
    "ExecuteTime": {
     "end_time": "2017-09-16T17:22:06.014129Z",
     "start_time": "2017-09-16T12:22:05.984553-05:00"
    }
   },
   "outputs": [
    {
     "name": "stdout",
     "output_type": "stream",
     "text": [
      "99999\n",
      "100000\n"
     ]
    },
    {
     "data": {
      "text/plain": [
       "array([   0. ,   61.6,  123.2,  184.8,  246.4,  308. ,  369.6,  431.2,\n",
       "        492.8,  554.4,  616. ])"
      ]
     },
     "execution_count": 101,
     "metadata": {},
     "output_type": "execute_result"
    }
   ],
   "source": [
    "strlens = list(ltbl['str_len'].values)\n",
    "print(len(strlens))\n",
    "strlens += [max(strlens)+1]\n",
    "print(len(strlens))\n",
    "freq, edges = np.histogram(strlens, bins=10)\n",
    "n = int(math.floor(0.1*len(ltable)))\n",
    "\n",
    "edges"
   ]
  },
  {
   "cell_type": "code",
   "execution_count": 115,
   "metadata": {
    "ExecuteTime": {
     "end_time": "2017-09-16T17:31:40.874567Z",
     "start_time": "2017-09-16T12:31:40.869015-05:00"
    }
   },
   "outputs": [
    {
     "data": {
      "text/plain": [
       "1333"
      ]
     },
     "execution_count": 115,
     "metadata": {},
     "output_type": "execute_result"
    }
   ],
   "source": [
    "len_freq[60]"
   ]
  },
  {
   "cell_type": "code",
   "execution_count": 122,
   "metadata": {
    "ExecuteTime": {
     "end_time": "2017-09-16T17:34:28.950311Z",
     "start_time": "2017-09-16T12:34:28.944184-05:00"
    }
   },
   "outputs": [
    {
     "data": {
      "text/plain": [
       "[1384387, 1384387, [1384387]]"
      ]
     },
     "execution_count": 122,
     "metadata": {},
     "output_type": "execute_result"
    }
   ],
   "source": [
    "bins[9]"
   ]
  },
  {
   "cell_type": "code",
   "execution_count": 138,
   "metadata": {
    "ExecuteTime": {
     "end_time": "2017-09-16T17:38:54.545263Z",
     "start_time": "2017-09-16T12:38:54.535418-05:00"
    }
   },
   "outputs": [],
   "source": [
    "bins = [[] for _ in range(10)]\n",
    "keys = sorted(len_ids.keys())\n",
    "positions = np.digitize(keys, edges)\n",
    "for i in range(len(keys)):\n",
    "    k, p = keys[i], positions[i]\n",
    "    bins[p-1].extend(len_ids[k])\n",
    "len_bins = [len(bins[i]) for i in range(len(bins))]\n"
   ]
  },
  {
   "cell_type": "code",
   "execution_count": 212,
   "metadata": {
    "ExecuteTime": {
     "end_time": "2017-09-16T18:04:54.144053Z",
     "start_time": "2017-09-16T13:04:54.121057-05:00"
    }
   },
   "outputs": [
    {
     "data": {
      "text/plain": [
       "[1303682, 163380, 308019, 808346, 1726730, 1040055, 651227, 1320243, 6826]"
      ]
     },
     "execution_count": 212,
     "metadata": {},
     "output_type": "execute_result"
    }
   ],
   "source": [
    "weights = [len_bins[i]/float(sum(len_bins)) for i in range(len(bins))]\n",
    "numtups = [int(math.ceil(weights[i]*n)) for i in range(len(weights))]\n",
    "numtups, sum(numtups)\n",
    "sampled = []\n",
    "for i in range(len(bins)):\n",
    "    nt = numtups[i]\n",
    "    np.random.seed(0)\n",
    "    if len(bins[i]):\n",
    "        tmp = np.random.choice(bins[i], nt)\n",
    "        if len(tmp):\n",
    "            sampled.extend(tmp)\n",
    "len(sampled)\n",
    "sampled[1:10]"
   ]
  },
  {
   "cell_type": "code",
   "execution_count": 165,
   "metadata": {
    "ExecuteTime": {
     "end_time": "2017-09-16T17:46:42.599658Z",
     "start_time": "2017-09-16T12:46:42.595319-05:00"
    }
   },
   "outputs": [],
   "source": [
    "prng = np.random.RandomState(1234567890)"
   ]
  },
  {
   "cell_type": "code",
   "execution_count": 179,
   "metadata": {
    "ExecuteTime": {
     "end_time": "2017-09-16T17:47:40.982580Z",
     "start_time": "2017-09-16T12:47:40.976197-05:00"
    }
   },
   "outputs": [
    {
     "data": {
      "text/plain": [
       "array([5, 1, 4])"
      ]
     },
     "execution_count": 179,
     "metadata": {},
     "output_type": "execute_result"
    }
   ],
   "source": [
    "np.random.seed(0)\n",
    "np.random.choice([1, 4, 5, 69, 12], 3, replace=False)\n"
   ]
  },
  {
   "cell_type": "code",
   "execution_count": 182,
   "metadata": {
    "ExecuteTime": {
     "end_time": "2017-09-16T17:47:42.831123Z",
     "start_time": "2017-09-16T12:47:42.825146-05:00"
    }
   },
   "outputs": [
    {
     "data": {
      "text/plain": [
       "array([69,  4,  5])"
      ]
     },
     "execution_count": 182,
     "metadata": {},
     "output_type": "execute_result"
    }
   ],
   "source": [
    "np.random.choice([1, 4, 5, 69, 12], 3, replace=False)\n"
   ]
  }
 ],
 "metadata": {
  "kernelspec": {
   "display_name": "Python 2",
   "language": "python",
   "name": "python2"
  },
  "language_info": {
   "codemirror_mode": {
    "name": "ipython",
    "version": 2
   },
   "file_extension": ".py",
   "mimetype": "text/x-python",
   "name": "python",
   "nbconvert_exporter": "python",
   "pygments_lexer": "ipython2",
   "version": "2.7.13"
  }
 },
 "nbformat": 4,
 "nbformat_minor": 2
}
