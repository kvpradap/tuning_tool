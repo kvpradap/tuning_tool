{
 "cells": [
  {
   "cell_type": "code",
   "execution_count": 3,
   "metadata": {
    "collapsed": true
   },
   "outputs": [],
   "source": [
    "import pandas as pd\n"
   ]
  },
  {
   "cell_type": "code",
   "execution_count": 2,
   "metadata": {
    "collapsed": true
   },
   "outputs": [],
   "source": [
    "import inspect\n",
    "def get_default_args(func):\n",
    "    \"\"\"\n",
    "    returns a dictionary of arg_name:default_values for the input function\n",
    "    \"\"\"\n",
    "    args, varargs, keywords, defaults = inspect.getargspec(func)\n",
    "    return dict(zip(args[-len(defaults):], defaults))\n",
    "def get_func_args(func):\n",
    "    return inspect.getargspec(func)[0]\n",
    "def get_class_func_name(command):\n",
    "    name = command.__name__\n",
    "    cls_name = None\n",
    "    if name == 'block_tables':\n",
    "        cls_name = command.im_class.__name__\n",
    "    return name, cls_name\n",
    "sample_size_setting = {\n",
    "    'block_tables':{\n",
    "        'AttrEquivalenceBlocker':[(0.1, 0.1), (0.3, 0.3), (0.5, 0.5), (0.7, 0.7), (0.9,\n",
    "                                                                                   0.9)],\n",
    "        'RuleBasedBlocker':[(1, 0.1), (1, 0.3), (1, 0.5), (1, 0.7), (1, 0.9)],\n",
    "        'BlacBoxBlocker':[(0.01, 0.01), (0.05, 0.05), (0.1, 0.1), (0.15, 0.15), (0.2,\n",
    "                                                                                 0.2)],\n",
    "        'OverlapBlocker':[(1, 0.1), (1, 0.3), (1, 0.5), (1, 0.7), (1, 0.9)],\n",
    "    },\n",
    "    'block_candset': [0.01, 0.05, 0.1, 0.15, 0.2],\n",
    "    'downsample':[(1, 0.2), (1, 0.3), (1, 0.5), (1, 0.7), (1, 0.9)],\n",
    "    'extract_feature_vecs': [0.01, 0.05, 0.1, 0.15, 0.2],\n",
    "    'predict':[0.01, 0.05, 0.1, 0.15, 0.2]\n",
    "}\n"
   ]
  },
  {
   "cell_type": "code",
   "execution_count": 32,
   "metadata": {
    "collapsed": true
   },
   "outputs": [],
   "source": [
    "def sample_table(table, proportion):\n",
    "    num_tuples = int(math.ceil(len(table)*proportion))\n",
    "    if num_tuples > len(table):\n",
    "        num_tuples = len(table)\n",
    "    sampled_table = table.sample(num_tuples)\n",
    "    sampled_table.sort_index(inplace=True)\n",
    "    return sampled_table\n",
    "\n",
    "def sample_tables(A, B, proportions):\n",
    "    prop_a, prop_b = proportions[0], proportions[1]\n",
    "    num_tuples_a = int(math.ceil(len(A)*prop_a))\n",
    "    num_tuples_b = int(math.ceil(len(B)*prop_b))\n",
    "    if num_tuples_a > len(A):\n",
    "        num_tuples_a = len(A)\n",
    "    if num_tuples_b > len(B):\n",
    "        num_tuples_b = len(B)\n",
    "    sampled_table_a = A.sample(num_tuples_a)\n",
    "    sampled_table_b = A.sample(num_tuples_b)    \n",
    "    sampled_table_a.sort_index(inplace=True)\n",
    "    sampled_table_b.sort_index(inplace=True)    \n",
    "    return sampled_table_a, sampled_table_b"
   ]
  },
  {
   "cell_type": "code",
   "execution_count": 39,
   "metadata": {
    "collapsed": true
   },
   "outputs": [],
   "source": [
    "import time\n",
    "import math\n",
    "\n",
    "\n",
    "class Timer(object):\n",
    "    def __enter__(self):\n",
    "        self.start = time.clock()\n",
    "        return self\n",
    "    def __exit__(self, *args):\n",
    "        self.end = time.clock()\n",
    "        self.interval = self.end - self.start\n",
    "\n",
    "\n",
    "def execute(p):\n",
    "    args = ()\n",
    "    if isinstance(p, (list, tuple)):\n",
    "        f, kwargs = (p[0], p[1])\n",
    "    f, t = None, None\n",
    "\n",
    "    try:\n",
    "        with Timer() as t:\n",
    "            res = f(*args, **kwargs)\n",
    "            print(len(res))\n",
    "    finally:\n",
    "        return t.interval\n",
    "\n",
    "\n",
    "def time_command(command, kwargs):\n",
    "    print('inside time command')\n",
    "    p = (command, kwargs)\n",
    "    return execute(p)"
   ]
  },
  {
   "cell_type": "code",
   "execution_count": 11,
   "metadata": {
    "collapsed": true
   },
   "outputs": [],
   "source": [
    "import dmagellan"
   ]
  },
  {
   "cell_type": "code",
   "execution_count": 12,
   "metadata": {},
   "outputs": [],
   "source": [
    "from dmagellan.blocker.attrequivalence.attr_equiv_blocker import AttrEquivalenceBlocker\n",
    "from dmagellan.sampler.downsample.downsample import downsample_dk"
   ]
  },
  {
   "cell_type": "code",
   "execution_count": 15,
   "metadata": {
    "collapsed": true
   },
   "outputs": [],
   "source": [
    "A = pd.read_csv('../datasets/sample_citeseer_100k.csv')\n",
    "B = pd.read_csv('../datasets/sample_dblp_100k.csv')\n",
    "ab = AttrEquivalenceBlocker()"
   ]
  },
  {
   "cell_type": "code",
   "execution_count": 41,
   "metadata": {},
   "outputs": [],
   "source": [
    "command = ab.block_tables\n",
    "input_args = {'ltable':A, 'rtable':B,  \n",
    "        'l_block_attr':'year', 'r_block_attr':'year', \n",
    "        'l_key':'id', 'r_key':'id', \n",
    "        'nltable_chunks': [1, 2, 4], 'nrtable_chunks': [4, 2, 1],\n",
    "        'compute':True\n",
    "     }\n",
    "do_cartesian = False\n",
    "repeat = 1"
   ]
  },
  {
   "cell_type": "code",
   "execution_count": 22,
   "metadata": {},
   "outputs": [],
   "source": [
    "# preprocess args\n",
    "default_args = get_default_args(command)\n",
    "function_args = get_func_args(command)\n",
    "if 'self' in function_args:\n",
    "    function_args.remove('self') \n",
    "required_args = set(function_args).difference(default_args.keys())\n",
    "\n",
    "missing_args = set(required_args).difference(input_args.keys())\n",
    "if len(missing_args):\n",
    "    print('The following args are required: ' + str(missing_args))\n",
    "args = default_args\n",
    "for key, value in input_args.iteritems():\n",
    "    args[key] = value"
   ]
  },
  {
   "cell_type": "code",
   "execution_count": 42,
   "metadata": {},
   "outputs": [],
   "source": [
    "# handle multiple num chunks value\n",
    "import itertools\n",
    "assert('nltable_chunks' in args)\n",
    "assert('nrtable_chunks' in args)\n",
    "ltable_setting = args['nltable_chunks']\n",
    "if not isinstance(ltable_setting, list):\n",
    "    ltable_setting = [ltable_setting]\n",
    "rtable_setting = args['nrtable_chunks']\n",
    "if not isinstance(rtable_setting, list):\n",
    "    rtable_setting = [rtable_setting]\n",
    "\n",
    "if do_cartesian:\n",
    "    config_setting = list(itertools.product(ltable_setting, rtable_setting))\n",
    "else:\n",
    "    assert(len(ltable_setting) == len(rtable_setting))\n",
    "    config_setting = zip(ltable_setting, rtable_setting)\n",
    "function_name, class_name = get_class_func_name(command)\n",
    "if class_name is not None:\n",
    "    sample_sizes = sample_size_setting[function_name][class_name]\n",
    "else:\n",
    "    sample_sizes = sample_size_setting[function_name]\n"
   ]
  },
  {
   "cell_type": "code",
   "execution_count": 46,
   "metadata": {},
   "outputs": [
    {
     "name": "stdout",
     "output_type": "stream",
     "text": [
      "(0.1, 0.1)\n",
      "inside time command\n",
      "(1.4000000000180535e-05, (1, 4))\n",
      "inside time command\n",
      "(2.19999999995224e-05, (2, 2))\n",
      "inside time command\n",
      "(1.799999999896329e-05, (4, 1))\n",
      "(0.3, 0.3)\n",
      "inside time command\n",
      "(1.9999999999242846e-05, (1, 4))\n",
      "inside time command\n",
      "(9.999999999621423e-06, (2, 2))\n",
      "inside time command\n",
      "(1.9999999999242846e-05, (4, 1))\n",
      "[(1.0, (1, 4)), (1.0, (2, 2)), (1.0, (4, 1))]\n"
     ]
    }
   ],
   "source": [
    "best_one = -1\n",
    "for sample_size in sample_sizes:\n",
    "    print(sample_size)\n",
    "    result = []\n",
    "    for config in config_setting:\n",
    "        cum_runtime = 0\n",
    "        for count in range(repeat):\n",
    "            sampled_table_a, sampled_table_b = sample_tables(A, B, config)\n",
    "            if function_name == 'downsample':\n",
    "                if args['size'] > len(sampled_table_b):\n",
    "                    args['size'] = len(sampled_table_b)\n",
    "            args['ltable'] = sampled_table_a\n",
    "            args['rtable'] = sampled_table_b            \n",
    "            runtime = time_command(command, args)\n",
    "            cum_runtime += runtime\n",
    "#             print(runtime)\n",
    "#         print(type(result))\n",
    "        print(runtime, config)\n",
    "        result.append((math.ceil(cum_runtime/float(repeat)), config))\n",
    "        \n",
    "    result.sort()\n",
    "    if best_one == -1:\n",
    "        best_one = result\n",
    "    elif best_one[1] == result[1]:\n",
    "        break\n",
    "    else:\n",
    "        best_one = result\n",
    "        continue\n",
    "print(best_one)"
   ]
  }
 ],
 "metadata": {
  "kernelspec": {
   "display_name": "Python 2",
   "language": "python",
   "name": "python2"
  },
  "language_info": {
   "codemirror_mode": {
    "name": "ipython",
    "version": 2
   },
   "file_extension": ".py",
   "mimetype": "text/x-python",
   "name": "python",
   "nbconvert_exporter": "python",
   "pygments_lexer": "ipython2",
   "version": "2.7.13"
  }
 },
 "nbformat": 4,
 "nbformat_minor": 2
}
