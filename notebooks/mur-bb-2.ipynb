{
 "cells": [
  {
   "cell_type": "code",
   "execution_count": 1,
   "metadata": {
    "ExecuteTime": {
     "end_time": "2017-09-18T18:42:09.247036Z",
     "start_time": "2017-09-18T13:42:08.324663-05:00"
    },
    "collapsed": true
   },
   "outputs": [],
   "source": [
    "import pandas as pd\n",
    "import psutil\n",
    "import time"
   ]
  },
  {
   "cell_type": "code",
   "execution_count": 2,
   "metadata": {
    "ExecuteTime": {
     "end_time": "2017-09-18T18:42:09.372840Z",
     "start_time": "2017-09-18T13:42:09.249341-05:00"
    },
    "collapsed": true
   },
   "outputs": [],
   "source": [
    "from dmagellan.blocker.blackbox.blackbox_blocker import BlackBoxBlocker\n",
    "from dask import multiprocessing"
   ]
  },
  {
   "cell_type": "code",
   "execution_count": 44,
   "metadata": {
    "ExecuteTime": {
     "end_time": "2017-09-18T19:04:21.960282Z",
     "start_time": "2017-09-18T14:04:21.432376-05:00"
    },
    "collapsed": true
   },
   "outputs": [],
   "source": [
    "A = pd.read_csv('../datasets/sample_citeseer_100k.csv')\n",
    "B = pd.read_csv('../datasets/sample_dblp_100k_mur.csv')\n",
    "A = A.head(5000)\n",
    "B = B.head(5000)"
   ]
  },
  {
   "cell_type": "code",
   "execution_count": 34,
   "metadata": {
    "ExecuteTime": {
     "end_time": "2017-09-18T18:57:08.217599Z",
     "start_time": "2017-09-18T13:57:08.214055-05:00"
    },
    "collapsed": true
   },
   "outputs": [],
   "source": [
    "import py_stringsimjoin"
   ]
  },
  {
   "cell_type": "code",
   "execution_count": 35,
   "metadata": {
    "ExecuteTime": {
     "end_time": "2017-09-18T18:57:08.226341Z",
     "start_time": "2017-09-18T13:57:08.221411-05:00"
    }
   },
   "outputs": [],
   "source": [
    "import py_stringmatching\n",
    "from py_stringmatching.similarity_measure.jaccard import Jaccard"
   ]
  },
  {
   "cell_type": "code",
   "execution_count": 36,
   "metadata": {
    "ExecuteTime": {
     "end_time": "2017-09-18T18:57:08.266636Z",
     "start_time": "2017-09-18T13:57:08.229322-05:00"
    }
   },
   "outputs": [
    {
     "data": {
      "text/html": [
       "<div>\n",
       "<style>\n",
       "    .dataframe thead tr:only-child th {\n",
       "        text-align: right;\n",
       "    }\n",
       "\n",
       "    .dataframe thead th {\n",
       "        text-align: left;\n",
       "    }\n",
       "\n",
       "    .dataframe tbody tr th {\n",
       "        vertical-align: top;\n",
       "    }\n",
       "</style>\n",
       "<table border=\"1\" class=\"dataframe\">\n",
       "  <thead>\n",
       "    <tr style=\"text-align: right;\">\n",
       "      <th></th>\n",
       "      <th>id</th>\n",
       "      <th>title</th>\n",
       "      <th>authors</th>\n",
       "      <th>journal</th>\n",
       "      <th>month</th>\n",
       "      <th>year</th>\n",
       "      <th>publication_type</th>\n",
       "    </tr>\n",
       "  </thead>\n",
       "  <tbody>\n",
       "    <tr>\n",
       "      <th>995</th>\n",
       "      <td>1636434</td>\n",
       "      <td>Federal Reserve Board</td>\n",
       "      <td>Arthur B. Kennickell</td>\n",
       "      <td>NaN</td>\n",
       "      <td>NaN</td>\n",
       "      <td>1996.0</td>\n",
       "      <td>NaN</td>\n",
       "    </tr>\n",
       "    <tr>\n",
       "      <th>996</th>\n",
       "      <td>89382</td>\n",
       "      <td>An analysis of the 1998 Workplace Employee Relations Survey</td>\n",
       "      <td>S Dex, C Smith, Colin Smith</td>\n",
       "      <td>NaN</td>\n",
       "      <td>NaN</td>\n",
       "      <td>2001.0</td>\n",
       "      <td>NaN</td>\n",
       "    </tr>\n",
       "    <tr>\n",
       "      <th>997</th>\n",
       "      <td>1613860</td>\n",
       "      <td>Jackendoffs Semantic Structures</td>\n",
       "      <td>Manuel Bremer</td>\n",
       "      <td>NaN</td>\n",
       "      <td>NaN</td>\n",
       "      <td>NaN</td>\n",
       "      <td>NaN</td>\n",
       "    </tr>\n",
       "    <tr>\n",
       "      <th>998</th>\n",
       "      <td>912662</td>\n",
       "      <td>Power-aware Scheduling for Parallel Security Processors with Analytical Models</td>\n",
       "      <td>Yung-chia Lin, Yi-ping You, Chung-wen Huang, Jenq-kuen Lee, Wei-kuan Shih, Ting-ting Hwang</td>\n",
       "      <td>NaN</td>\n",
       "      <td>NaN</td>\n",
       "      <td>NaN</td>\n",
       "      <td>NaN</td>\n",
       "    </tr>\n",
       "    <tr>\n",
       "      <th>999</th>\n",
       "      <td>314332</td>\n",
       "      <td>Disclaimer.........................................................................................</td>\n",
       "      <td>John Harvey, Fenella Long</td>\n",
       "      <td>NaN</td>\n",
       "      <td>NaN</td>\n",
       "      <td>1999.0</td>\n",
       "      <td>NaN</td>\n",
       "    </tr>\n",
       "  </tbody>\n",
       "</table>\n",
       "</div>"
      ],
      "text/plain": [
       "          id  \\\n",
       "995  1636434   \n",
       "996    89382   \n",
       "997  1613860   \n",
       "998   912662   \n",
       "999   314332   \n",
       "\n",
       "                                                                                                   title  \\\n",
       "995                                                                                Federal Reserve Board   \n",
       "996                                          An analysis of the 1998 Workplace Employee Relations Survey   \n",
       "997                                                                      Jackendoffs Semantic Structures   \n",
       "998                      Power-aware Scheduling for Parallel Security Processors with Analytical Models    \n",
       "999  Disclaimer.........................................................................................   \n",
       "\n",
       "                                                                                        authors  \\\n",
       "995                                                                        Arthur B. Kennickell   \n",
       "996                                                                 S Dex, C Smith, Colin Smith   \n",
       "997                                                                               Manuel Bremer   \n",
       "998  Yung-chia Lin, Yi-ping You, Chung-wen Huang, Jenq-kuen Lee, Wei-kuan Shih, Ting-ting Hwang   \n",
       "999                                                                   John Harvey, Fenella Long   \n",
       "\n",
       "    journal  month    year publication_type  \n",
       "995     NaN    NaN  1996.0              NaN  \n",
       "996     NaN    NaN  2001.0              NaN  \n",
       "997     NaN    NaN     NaN              NaN  \n",
       "998     NaN    NaN     NaN              NaN  \n",
       "999     NaN    NaN  1999.0              NaN  "
      ]
     },
     "execution_count": 36,
     "metadata": {},
     "output_type": "execute_result"
    }
   ],
   "source": [
    "A.tail()"
   ]
  },
  {
   "cell_type": "code",
   "execution_count": 42,
   "metadata": {
    "ExecuteTime": {
     "end_time": "2017-09-18T19:01:42.263927Z",
     "start_time": "2017-09-18T14:01:42.254789-05:00"
    }
   },
   "outputs": [],
   "source": [
    "def blacbox_fn(ltuple, rtuple):\n",
    "    jac = Jaccard()\n",
    "    t1, a1 = ltuple['title'], ltuple['authors']\n",
    "    if pd.isnull(t1) or pd.isnull(a1):\n",
    "        return True\n",
    "    t2, a2 = rtuple['title'], rtuple['authors']\n",
    "    if pd.isnull(t2) or pd.isnull(a2):\n",
    "        return True\n",
    "    if len(t1) > 150 and len(t2) > 150 and len(a1) > 50  and len(a2) > 50:\n",
    "        return False\n",
    "    \n",
    "    \n",
    "    return True"
   ]
  },
  {
   "cell_type": "code",
   "execution_count": 45,
   "metadata": {
    "ExecuteTime": {
     "end_time": "2017-09-18T19:05:32.695023Z",
     "start_time": "2017-09-18T14:04:36.133911-05:00"
    }
   },
   "outputs": [
    {
     "name": "stdout",
     "output_type": "stream",
     "text": [
      "2067\n"
     ]
    }
   ],
   "source": [
    "memUsageBefore = psutil.virtual_memory().used/1e9\n",
    "timeBefore = time.time()\n",
    "bb = BlackBoxBlocker()\n",
    "bb.set_black_box_function(blacbox_fn)\n",
    "bb.set_ltable_attrs(['title', 'authors'])\n",
    "bb.set_rtable_attrs(['title', 'authors'])\n",
    "C = bb.block_tables(A, B , 'id', 'id', nltable_chunks=2,\n",
    "                    nrtable_chunks=2, compute=False)\n",
    "\n",
    "D = C.compute(get=multiprocessing.get)\n",
    "\n",
    "timeAfter = time.time()\n",
    "memUsageAfter = psutil.virtual_memory().used/1e9\n",
    "print(len(D))"
   ]
  }
 ],
 "metadata": {
  "kernelspec": {
   "display_name": "Python 2",
   "language": "python",
   "name": "python2"
  },
  "language_info": {
   "codemirror_mode": {
    "name": "ipython",
    "version": 2
   },
   "file_extension": ".py",
   "mimetype": "text/x-python",
   "name": "python",
   "nbconvert_exporter": "python",
   "pygments_lexer": "ipython2",
   "version": "2.7.13"
  }
 },
 "nbformat": 4,
 "nbformat_minor": 2
}
