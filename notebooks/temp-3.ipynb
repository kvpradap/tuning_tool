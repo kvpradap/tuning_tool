{
 "cells": [
  {
   "cell_type": "code",
   "execution_count": 5,
   "metadata": {
    "collapsed": true
   },
   "outputs": [],
   "source": [
    "import pandas as pd"
   ]
  },
  {
   "cell_type": "code",
   "execution_count": 2,
   "metadata": {},
   "outputs": [],
   "source": [
    "import inspect\n",
    "def get_default_args(func):\n",
    "    \"\"\"\n",
    "    returns a dictionary of arg_name:default_values for the input function\n",
    "    \"\"\"\n",
    "    args, varargs, keywords, defaults = inspect.getargspec(func)\n",
    "    return dict(zip(args[-len(defaults):], defaults))\n",
    "def get_func_args(func):\n",
    "    return inspect.getargspec(func)[0]\n",
    "def get_class_func_name(command):\n",
    "    name = command.__name__\n",
    "    cls_name = None\n",
    "    if name == 'block_tables':\n",
    "        cls_name = command.im_class.__name__\n",
    "    return name, cls_name\n",
    "sample_size_setting = {\n",
    "    'block_tables':{\n",
    "        'AttrEquivalenceBlocker':[(0.1, 0.1), (0.3, 0.3), (0.5, 0.5), (0.7, 0.7), (0.9,\n",
    "                                                                                   0.9)],\n",
    "        'RuleBasedBlocker':[(1, 0.1), (1, 0.3), (1, 0.5), (1, 0.7), (1, 0.9)],\n",
    "        'BlacBoxBlocker':[(0.01, 0.01), (0.05, 0.05), (0.1, 0.1), (0.15, 0.15), (0.2,\n",
    "                                                                                 0.2)],\n",
    "        'OverlapBlocker':[(1, 0.1), (1, 0.3), (1, 0.5), (1, 0.7), (1, 0.9)],\n",
    "    },\n",
    "    'block_candset': [0.01, 0.05, 0.1, 0.15, 0.2],\n",
    "    'downsample':[(1, 0.2), (1, 0.3), (1, 0.5), (1, 0.7), (1, 0.9)],\n",
    "    'extract_feature_vecs': [0.01, 0.05, 0.1, 0.15, 0.2],\n",
    "    'predict':[0.01, 0.05, 0.1, 0.15, 0.2]\n",
    "}\n"
   ]
  },
  {
   "cell_type": "code",
   "execution_count": 30,
   "metadata": {
    "collapsed": true
   },
   "outputs": [],
   "source": [
    "def sample_table(table, proportion):\n",
    "    num_tuples = int(math.ceil(len(table)*proportion))\n",
    "    if num_tuples > len(table):\n",
    "        num_tuples = len(table)\n",
    "    sampled_table = table.sample(num_tuples)\n",
    "    sampled_table.sort_index(inplace=True)\n",
    "    return sampled_table\n",
    "\n",
    "def sampled_tables(A, B, proportions):\n",
    "    prop_a, prop_b = proportions[0], proportions[1]\n",
    "    num_tuples_a = int(math.ceil(len(A)*prop_a))\n",
    "    num_tuples_b = int(math.ceil(len(B)*prop_b))\n",
    "    if num_tuples_a > len(A):\n",
    "        num_tuples_a = len(A)\n",
    "    if num_tuples_b > len(B):\n",
    "        num_tuples_b = len(B)\n",
    "    sampled_table_a = A.sample(num_tuples_a)\n",
    "    sampled_table_b = A.sample(num_tuples_b)    \n",
    "    sampled_table_a.sort_index(inplace=True)\n",
    "    sampled_table_b.sort_index(inplace=True)    \n",
    "    return sampled_table_a, sampled_table_b\n",
    "\n",
    "    "
   ]
  },
  {
   "cell_type": "code",
   "execution_count": 42,
   "metadata": {
    "collapsed": true
   },
   "outputs": [],
   "source": [
    "import time\n",
    "import math\n",
    "\n",
    "\n",
    "class Timer(object):\n",
    "    def __enter__(self):\n",
    "        self.start = time.clock()\n",
    "        return self\n",
    "    def __exit__(self, *args):\n",
    "        self.end = time.clock()\n",
    "        self.interval = self.end - self.start\n",
    "\n",
    "\n",
    "def execute(p):\n",
    "    args = ()\n",
    "    if isinstance(p, (list, tuple)):\n",
    "        f, kwargs = (p[0], p[1])\n",
    "    f, t = None, None\n",
    "\n",
    "    try:\n",
    "        with Timer() as t:\n",
    "            _ = f(*args, **kwargs)\n",
    "    finally:\n",
    "        return t.interval\n",
    "\n",
    "\n",
    "def time_command(command, kwargs):\n",
    "    p = (command, kwargs)\n",
    "    return execute(p)"
   ]
  },
  {
   "cell_type": "code",
   "execution_count": 36,
   "metadata": {},
   "outputs": [
    {
     "data": {
      "text/html": [
       "<div>\n",
       "<style>\n",
       "    .dataframe thead tr:only-child th {\n",
       "        text-align: right;\n",
       "    }\n",
       "\n",
       "    .dataframe thead th {\n",
       "        text-align: left;\n",
       "    }\n",
       "\n",
       "    .dataframe tbody tr th {\n",
       "        vertical-align: top;\n",
       "    }\n",
       "</style>\n",
       "<table border=\"1\" class=\"dataframe\">\n",
       "  <thead>\n",
       "    <tr style=\"text-align: right;\">\n",
       "      <th></th>\n",
       "      <th>id</th>\n",
       "      <th>title</th>\n",
       "      <th>authors</th>\n",
       "      <th>journal</th>\n",
       "      <th>month</th>\n",
       "      <th>year</th>\n",
       "      <th>publication_type</th>\n",
       "    </tr>\n",
       "  </thead>\n",
       "  <tbody>\n",
       "    <tr>\n",
       "      <th>0</th>\n",
       "      <td>439198</td>\n",
       "      <td>Reconstructing Climatic and Environmental Chan...</td>\n",
       "      <td>Willie Soon, Sallie Baliunas, Craig Idso, Sher...</td>\n",
       "      <td>NaN</td>\n",
       "      <td>NaN</td>\n",
       "      <td>NaN</td>\n",
       "      <td>NaN</td>\n",
       "    </tr>\n",
       "    <tr>\n",
       "      <th>1</th>\n",
       "      <td>482999</td>\n",
       "      <td>Semantic Cache Mechanism for Heterogeneous Web...</td>\n",
       "      <td>Boris Chidlovskiiy, Claudia Roncancioz, Marie-...</td>\n",
       "      <td>NaN</td>\n",
       "      <td>NaN</td>\n",
       "      <td>NaN</td>\n",
       "      <td>NaN</td>\n",
       "    </tr>\n",
       "    <tr>\n",
       "      <th>2</th>\n",
       "      <td>58637</td>\n",
       "      <td>A note on recursive functions</td>\n",
       "      <td>Nicoletta Sabadini, Sebastiano Vigna, Robert F...</td>\n",
       "      <td>NaN</td>\n",
       "      <td>NaN</td>\n",
       "      <td>NaN</td>\n",
       "      <td>NaN</td>\n",
       "    </tr>\n",
       "    <tr>\n",
       "      <th>3</th>\n",
       "      <td>584961</td>\n",
       "      <td>The Data Warehouse of Newsgroups</td>\n",
       "      <td>Himanshu Gupta, Divesh Srivastava</td>\n",
       "      <td>NaN</td>\n",
       "      <td>NaN</td>\n",
       "      <td>NaN</td>\n",
       "      <td>NaN</td>\n",
       "    </tr>\n",
       "    <tr>\n",
       "      <th>4</th>\n",
       "      <td>1606897</td>\n",
       "      <td>An Experimental Evaluation of Tiling and Shack...</td>\n",
       "      <td>Induprakas Kodukula, Keshav Pingali, Robert Co...</td>\n",
       "      <td>NaN</td>\n",
       "      <td>NaN</td>\n",
       "      <td>NaN</td>\n",
       "      <td>NaN</td>\n",
       "    </tr>\n",
       "  </tbody>\n",
       "</table>\n",
       "</div>"
      ],
      "text/plain": [
       "        id                                              title  \\\n",
       "0   439198  Reconstructing Climatic and Environmental Chan...   \n",
       "1   482999  Semantic Cache Mechanism for Heterogeneous Web...   \n",
       "2    58637                      A note on recursive functions   \n",
       "3   584961                   The Data Warehouse of Newsgroups   \n",
       "4  1606897  An Experimental Evaluation of Tiling and Shack...   \n",
       "\n",
       "                                             authors journal  month  year  \\\n",
       "0  Willie Soon, Sallie Baliunas, Craig Idso, Sher...     NaN    NaN   NaN   \n",
       "1  Boris Chidlovskiiy, Claudia Roncancioz, Marie-...     NaN    NaN   NaN   \n",
       "2  Nicoletta Sabadini, Sebastiano Vigna, Robert F...     NaN    NaN   NaN   \n",
       "3                  Himanshu Gupta, Divesh Srivastava     NaN    NaN   NaN   \n",
       "4  Induprakas Kodukula, Keshav Pingali, Robert Co...     NaN    NaN   NaN   \n",
       "\n",
       "  publication_type  \n",
       "0              NaN  \n",
       "1              NaN  \n",
       "2              NaN  \n",
       "3              NaN  \n",
       "4              NaN  "
      ]
     },
     "execution_count": 36,
     "metadata": {},
     "output_type": "execute_result"
    }
   ],
   "source": [
    "A.head()"
   ]
  },
  {
   "cell_type": "code",
   "execution_count": 35,
   "metadata": {},
   "outputs": [
    {
     "data": {
      "text/html": [
       "<div>\n",
       "<style>\n",
       "    .dataframe thead tr:only-child th {\n",
       "        text-align: right;\n",
       "    }\n",
       "\n",
       "    .dataframe thead th {\n",
       "        text-align: left;\n",
       "    }\n",
       "\n",
       "    .dataframe tbody tr th {\n",
       "        vertical-align: top;\n",
       "    }\n",
       "</style>\n",
       "<table border=\"1\" class=\"dataframe\">\n",
       "  <thead>\n",
       "    <tr style=\"text-align: right;\">\n",
       "      <th></th>\n",
       "      <th>id</th>\n",
       "      <th>title</th>\n",
       "      <th>authors</th>\n",
       "      <th>journal</th>\n",
       "      <th>month</th>\n",
       "      <th>year</th>\n",
       "      <th>publication_type</th>\n",
       "    </tr>\n",
       "  </thead>\n",
       "  <tbody>\n",
       "    <tr>\n",
       "      <th>1</th>\n",
       "      <td>482999</td>\n",
       "      <td>Semantic Cache Mechanism for Heterogeneous Web...</td>\n",
       "      <td>Boris Chidlovskiiy, Claudia Roncancioz, Marie-...</td>\n",
       "      <td>NaN</td>\n",
       "      <td>NaN</td>\n",
       "      <td>NaN</td>\n",
       "      <td>NaN</td>\n",
       "    </tr>\n",
       "    <tr>\n",
       "      <th>2</th>\n",
       "      <td>58637</td>\n",
       "      <td>A note on recursive functions</td>\n",
       "      <td>Nicoletta Sabadini, Sebastiano Vigna, Robert F...</td>\n",
       "      <td>NaN</td>\n",
       "      <td>NaN</td>\n",
       "      <td>NaN</td>\n",
       "      <td>NaN</td>\n",
       "    </tr>\n",
       "    <tr>\n",
       "      <th>3</th>\n",
       "      <td>584961</td>\n",
       "      <td>The Data Warehouse of Newsgroups</td>\n",
       "      <td>Himanshu Gupta, Divesh Srivastava</td>\n",
       "      <td>NaN</td>\n",
       "      <td>NaN</td>\n",
       "      <td>NaN</td>\n",
       "      <td>NaN</td>\n",
       "    </tr>\n",
       "    <tr>\n",
       "      <th>4</th>\n",
       "      <td>1606897</td>\n",
       "      <td>An Experimental Evaluation of Tiling and Shack...</td>\n",
       "      <td>Induprakas Kodukula, Keshav Pingali, Robert Co...</td>\n",
       "      <td>NaN</td>\n",
       "      <td>NaN</td>\n",
       "      <td>NaN</td>\n",
       "      <td>NaN</td>\n",
       "    </tr>\n",
       "    <tr>\n",
       "      <th>7</th>\n",
       "      <td>801993</td>\n",
       "      <td>A New, Improved Pipeline AUT Girth Weld Inspec...</td>\n",
       "      <td>Michael Moles, Simon Labb</td>\n",
       "      <td>NaN</td>\n",
       "      <td>NaN</td>\n",
       "      <td>NaN</td>\n",
       "      <td>NaN</td>\n",
       "    </tr>\n",
       "  </tbody>\n",
       "</table>\n",
       "</div>"
      ],
      "text/plain": [
       "        id                                              title  \\\n",
       "1   482999  Semantic Cache Mechanism for Heterogeneous Web...   \n",
       "2    58637                      A note on recursive functions   \n",
       "3   584961                   The Data Warehouse of Newsgroups   \n",
       "4  1606897  An Experimental Evaluation of Tiling and Shack...   \n",
       "7   801993  A New, Improved Pipeline AUT Girth Weld Inspec...   \n",
       "\n",
       "                                             authors journal  month  year  \\\n",
       "1  Boris Chidlovskiiy, Claudia Roncancioz, Marie-...     NaN    NaN   NaN   \n",
       "2  Nicoletta Sabadini, Sebastiano Vigna, Robert F...     NaN    NaN   NaN   \n",
       "3                  Himanshu Gupta, Divesh Srivastava     NaN    NaN   NaN   \n",
       "4  Induprakas Kodukula, Keshav Pingali, Robert Co...     NaN    NaN   NaN   \n",
       "7                          Michael Moles, Simon Labb     NaN    NaN   NaN   \n",
       "\n",
       "  publication_type  \n",
       "1              NaN  \n",
       "2              NaN  \n",
       "3              NaN  \n",
       "4              NaN  \n",
       "7              NaN  "
      ]
     },
     "execution_count": 35,
     "metadata": {},
     "output_type": "execute_result"
    }
   ],
   "source": [
    "A1 = sample_table(A, 0.5)\n",
    "len(A1)\n",
    "A1.head()"
   ]
  },
  {
   "cell_type": "code",
   "execution_count": 40,
   "metadata": {
    "collapsed": true
   },
   "outputs": [],
   "source": [
    "from dmagellan.blocker.overlap.overlapblocker import OverlapBlocker\n",
    "from dmagellan.sampler.downsample.downsample import downsample_dk"
   ]
  },
  {
   "cell_type": "code",
   "execution_count": 4,
   "metadata": {
    "collapsed": true
   },
   "outputs": [],
   "source": [
    "ob = OverlapBlocker()"
   ]
  },
  {
   "cell_type": "code",
   "execution_count": 7,
   "metadata": {
    "collapsed": true
   },
   "outputs": [],
   "source": [
    "A = pd.read_csv('../datasets/sample_citeseer_200k.csv')\n",
    "B = pd.read_csv('../datasets/sample_dblp_200k.csv')"
   ]
  },
  {
   "cell_type": "code",
   "execution_count": 23,
   "metadata": {},
   "outputs": [],
   "source": [
    "import math\n",
    "A1 = A.sample(int(math.floor(len(A)*0.1)))"
   ]
  },
  {
   "cell_type": "code",
   "execution_count": 28,
   "metadata": {},
   "outputs": [],
   "source": [
    "A1.sort_index(inplace=True)"
   ]
  },
  {
   "cell_type": "code",
   "execution_count": 29,
   "metadata": {},
   "outputs": [
    {
     "data": {
      "text/html": [
       "<div>\n",
       "<style>\n",
       "    .dataframe thead tr:only-child th {\n",
       "        text-align: right;\n",
       "    }\n",
       "\n",
       "    .dataframe thead th {\n",
       "        text-align: left;\n",
       "    }\n",
       "\n",
       "    .dataframe tbody tr th {\n",
       "        vertical-align: top;\n",
       "    }\n",
       "</style>\n",
       "<table border=\"1\" class=\"dataframe\">\n",
       "  <thead>\n",
       "    <tr style=\"text-align: right;\">\n",
       "      <th></th>\n",
       "      <th>id</th>\n",
       "      <th>title</th>\n",
       "      <th>authors</th>\n",
       "      <th>journal</th>\n",
       "      <th>month</th>\n",
       "      <th>year</th>\n",
       "      <th>publication_type</th>\n",
       "    </tr>\n",
       "  </thead>\n",
       "  <tbody>\n",
       "    <tr>\n",
       "      <th>11</th>\n",
       "      <td>964225</td>\n",
       "      <td>Evaluating Indirect Branch Handling Mechanisms...</td>\n",
       "      <td>Jason D. Hiser, Daniel Williams, Jason Mars, B...</td>\n",
       "      <td>NaN</td>\n",
       "      <td>NaN</td>\n",
       "      <td>NaN</td>\n",
       "      <td>NaN</td>\n",
       "    </tr>\n",
       "    <tr>\n",
       "      <th>20</th>\n",
       "      <td>1407370</td>\n",
       "      <td>Web Image Classification for Information Extra...</td>\n",
       "      <td>Miroslav Vacura, Miroslav Vacura, Pavel Praks</td>\n",
       "      <td>NaN</td>\n",
       "      <td>NaN</td>\n",
       "      <td>NaN</td>\n",
       "      <td>NaN</td>\n",
       "    </tr>\n",
       "    <tr>\n",
       "      <th>40</th>\n",
       "      <td>636465</td>\n",
       "      <td>Stichting Informatica</td>\n",
       "      <td>F. Kratz</td>\n",
       "      <td>NaN</td>\n",
       "      <td>NaN</td>\n",
       "      <td>2005.0</td>\n",
       "      <td>NaN</td>\n",
       "    </tr>\n",
       "    <tr>\n",
       "      <th>49</th>\n",
       "      <td>338720</td>\n",
       "      <td>Surveying Formal and Practical Approaches for ...</td>\n",
       "      <td>Erbil Yilmaz, Yanet Manzano</td>\n",
       "      <td>NaN</td>\n",
       "      <td>NaN</td>\n",
       "      <td>2002.0</td>\n",
       "      <td>NaN</td>\n",
       "    </tr>\n",
       "    <tr>\n",
       "      <th>51</th>\n",
       "      <td>1219742</td>\n",
       "      <td>SUMMARY AND CONCLUSIONS..........................</td>\n",
       "      <td>Michael Sgaard Jrgensen, Maj Munch Andersen, A...</td>\n",
       "      <td>NaN</td>\n",
       "      <td>NaN</td>\n",
       "      <td>NaN</td>\n",
       "      <td>NaN</td>\n",
       "    </tr>\n",
       "  </tbody>\n",
       "</table>\n",
       "</div>"
      ],
      "text/plain": [
       "         id                                              title  \\\n",
       "11   964225  Evaluating Indirect Branch Handling Mechanisms...   \n",
       "20  1407370  Web Image Classification for Information Extra...   \n",
       "40   636465                              Stichting Informatica   \n",
       "49   338720  Surveying Formal and Practical Approaches for ...   \n",
       "51  1219742  SUMMARY AND CONCLUSIONS..........................   \n",
       "\n",
       "                                              authors journal  month    year  \\\n",
       "11  Jason D. Hiser, Daniel Williams, Jason Mars, B...     NaN    NaN     NaN   \n",
       "20      Miroslav Vacura, Miroslav Vacura, Pavel Praks     NaN    NaN     NaN   \n",
       "40                                           F. Kratz     NaN    NaN  2005.0   \n",
       "49                        Erbil Yilmaz, Yanet Manzano     NaN    NaN  2002.0   \n",
       "51  Michael Sgaard Jrgensen, Maj Munch Andersen, A...     NaN    NaN     NaN   \n",
       "\n",
       "   publication_type  \n",
       "11              NaN  \n",
       "20              NaN  \n",
       "40              NaN  \n",
       "49              NaN  \n",
       "51              NaN  "
      ]
     },
     "execution_count": 29,
     "metadata": {},
     "output_type": "execute_result"
    }
   ],
   "source": [
    "A1.head()"
   ]
  },
  {
   "cell_type": "code",
   "execution_count": 24,
   "metadata": {},
   "outputs": [
    {
     "data": {
      "text/plain": [
       "20000"
      ]
     },
     "execution_count": 24,
     "metadata": {},
     "output_type": "execute_result"
    }
   ],
   "source": [
    "len(A1)"
   ]
  },
  {
   "cell_type": "code",
   "execution_count": 41,
   "metadata": {},
   "outputs": [
    {
     "data": {
      "text/plain": [
       "['ltable',\n",
       " 'rtable',\n",
       " 'lid',\n",
       " 'rid',\n",
       " 'size',\n",
       " 'y',\n",
       " 'lstopwords',\n",
       " 'rstopwords',\n",
       " 'nlchunks',\n",
       " 'nrchunks',\n",
       " 'scheduler',\n",
       " 'compute']"
      ]
     },
     "execution_count": 41,
     "metadata": {},
     "output_type": "execute_result"
    }
   ],
   "source": [
    "d = get_func_args(downsample_dk)\n",
    "d"
   ]
  },
  {
   "cell_type": "code",
   "execution_count": 8,
   "metadata": {
    "collapsed": true
   },
   "outputs": [],
   "source": [
    "command = ob.block_tables\n",
    "input_args = {'ltable':A, 'rtable':B,  \n",
    "        'l_block_attr':'title', 'r_block_attr':'title', \n",
    "        'l_key':'id', 'r_key':'id', \n",
    "        'nltable_chunks': [1, 2, 4], 'nrtable_chunks': [4, 2, 1],\n",
    "        'compute'=True\n",
    "     }\n",
    "do_cartesian = False\n",
    "repeat = 2"
   ]
  },
  {
   "cell_type": "code",
   "execution_count": null,
   "metadata": {
    "collapsed": true
   },
   "outputs": [],
   "source": [
    "# preprocess args\n",
    "default_args = get_default_args(command)\n",
    "funtion_args = get_func_args(command)\n",
    "if self in function_args:\n",
    "    function_args.remove('self') \n",
    "required_args = set(function_args).difference(default_args.keys())\n",
    "\n",
    "missing_args = set(required_args).difference(d.keys())\n",
    "if len(missing_args):\n",
    "    print('The following args are required: ' + str(missing_args))\n",
    "args = default_args\n",
    "for key, value in input_args:\n",
    "    args[key] = value"
   ]
  },
  {
   "cell_type": "code",
   "execution_count": 9,
   "metadata": {},
   "outputs": [
    {
     "ename": "AssertionError",
     "evalue": "",
     "output_type": "error",
     "traceback": [
      "\u001b[0;31m---------------------------------------------------------------------------\u001b[0m",
      "\u001b[0;31mAssertionError\u001b[0m                            Traceback (most recent call last)",
      "\u001b[0;32m<ipython-input-9-cf0a40291e13>\u001b[0m in \u001b[0;36m<module>\u001b[0;34m()\u001b[0m\n\u001b[1;32m      1\u001b[0m \u001b[0;31m# handle single num_chunks value\u001b[0m\u001b[0;34m\u001b[0m\u001b[0;34m\u001b[0m\u001b[0m\n\u001b[0;32m----> 2\u001b[0;31m \u001b[0;32massert\u001b[0m\u001b[0;34m(\u001b[0m\u001b[0;34m'num_chunks'\u001b[0m \u001b[0;32min\u001b[0m \u001b[0margs\u001b[0m\u001b[0;34m)\u001b[0m\u001b[0;34m\u001b[0m\u001b[0m\n\u001b[0m",
      "\u001b[0;31mAssertionError\u001b[0m: "
     ]
    }
   ],
   "source": [
    "# handle single num_chunks value\n",
    "assert('num_chunks' in args)\n",
    "config_setting = args['num_chunks']\n",
    "function_name, class_name = get_class_func_name(command)\n",
    "if class_name is not None:\n",
    "    sample_sizes = sample_size_setting[class_name][function_name]\n",
    "else:\n",
    "    sample_sizes = sample_size_setting[function_name]\n",
    "best_one = -1\n",
    "\n",
    "for sample_size in sample_sizes:\n",
    "    result = []\n",
    "    for config in config_setting\n",
    "        cum_runtime = 0\n",
    "        for count in range(repeat)\n",
    "            sampled_table = sample_table(candset, config)\n",
    "            args['candset'] = sampled_table\n",
    "            runtime = time_command(command, args)\n",
    "            cum_runtime += runtime\n",
    "        result = result.append((math.ceil(cum_runtime/float(repeat)), setting))\n",
    "        \n",
    "    result.sort()\n",
    "    if best_one == -1:\n",
    "        best_one = result\n",
    "    elif best_one[1] == result[1]:\n",
    "        break\n",
    "    else:\n",
    "        best_one = result\n",
    "        continue\n",
    "    \n",
    "    "
   ]
  },
  {
   "cell_type": "code",
   "execution_count": 16,
   "metadata": {},
   "outputs": [
    {
     "data": {
      "text/plain": [
       "[(1, 3), (3, 4), (5, 5)]"
      ]
     },
     "execution_count": 16,
     "metadata": {},
     "output_type": "execute_result"
    }
   ],
   "source": [
    "import itertools\n",
    "a = [1, 3, 5]\n",
    "b = [3, 4, 5]\n",
    "# s = list(itertools.product(a, b))\n",
    "s = zip(a, b)\n",
    "s"
   ]
  },
  {
   "cell_type": "code",
   "execution_count": null,
   "metadata": {
    "collapsed": true
   },
   "outputs": [],
   "source": [
    "# handle multiple num chunks value\n",
    "import itertools\n",
    "assert('nltable_chunks' in args)\n",
    "assert('nrtable_chunks' in args)\n",
    "ltable_setting = args['nltable_chunks']\n",
    "if not isinstance(ltable_setting, list):\n",
    "    ltable_setting = [ltable_setting]\n",
    "rtable_setting = args['nrtable_chunks']\n",
    "if not isinstance(rtable_setting, list):\n",
    "    rtable_setting = [rtable_setting]\n",
    "\n",
    "if do_cartesian:\n",
    "    config_setting = list(itertools.product(ltable_setting, rtable_setting))\n",
    "else:\n",
    "    assert(len(ltable_setting) == len(rtable_setting))\n",
    "    config_setting = zip(ltable_setting, rtable_setting)\n",
    "function_name, class_name = get_class_func_name(command)\n",
    "if class_name is not None:\n",
    "    sample_sizes = sample_size_setting[class_name][function_name]\n",
    "else:\n",
    "    sample_sizes = sample_size_setting[function_name]\n",
    "    \n",
    "best_one = -1\n",
    "for sample_size in sample_sizes:\n",
    "    result = []\n",
    "    for config in config_setting\n",
    "        cum_runtime = 0\n",
    "        for count in range(repeat)\n",
    "            sampled_table_a, sampled_table_b = sample_tables(table_a, table_b, config)\n",
    "            if function_name == 'downsample':\n",
    "                if args['size'] > len(sampled_table_b):\n",
    "                    args['size'] = len(sampled_table_b)\n",
    "            args['ltable'] = sampled_table_a\n",
    "            args['rtable'] = sampled_table_b            \n",
    "            runtime = time_command(command, args)\n",
    "            cum_runtime += runtime\n",
    "        result = result.append((math.ceil(cum_runtime/float(repeat)), setting))\n",
    "        \n",
    "    result.sort()\n",
    "    if best_one == -1:\n",
    "        best_one = result\n",
    "    elif best_one[1] == result[1]:\n",
    "        break\n",
    "    else:\n",
    "        best_one = result\n",
    "        continue\n",
    "\n",
    "    \n",
    "       \n"
   ]
  },
  {
   "cell_type": "code",
   "execution_count": null,
   "metadata": {
    "collapsed": true
   },
   "outputs": [],
   "source": []
  }
 ],
 "metadata": {
  "kernelspec": {
   "display_name": "Python 2",
   "language": "python",
   "name": "python2"
  },
  "language_info": {
   "codemirror_mode": {
    "name": "ipython",
    "version": 2
   },
   "file_extension": ".py",
   "mimetype": "text/x-python",
   "name": "python",
   "nbconvert_exporter": "python",
   "pygments_lexer": "ipython2",
   "version": "2.7.13"
  }
 },
 "nbformat": 4,
 "nbformat_minor": 2
}
