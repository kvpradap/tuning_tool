{
 "cells": [
  {
   "cell_type": "code",
   "execution_count": 1,
   "metadata": {
    "ExecuteTime": {
     "end_time": "2017-10-26T21:23:04.162510Z",
     "start_time": "2017-10-26T16:23:04.156187-05:00"
    }
   },
   "outputs": [],
   "source": [
    "import sys\n",
    "sys.path.append('/Users/pradap/Documents/Research/Python-Package/scaling/tuning_tool/')"
   ]
  },
  {
   "cell_type": "code",
   "execution_count": 2,
   "metadata": {
    "ExecuteTime": {
     "end_time": "2017-10-26T21:23:05.298496Z",
     "start_time": "2017-10-26T16:23:04.843289-05:00"
    }
   },
   "outputs": [],
   "source": [
    "import pandas as pd"
   ]
  },
  {
   "cell_type": "code",
   "execution_count": 3,
   "metadata": {
    "ExecuteTime": {
     "end_time": "2017-10-26T21:23:05.425464Z",
     "start_time": "2017-10-26T16:23:05.402251-05:00"
    }
   },
   "outputs": [],
   "source": [
    "acm = pd.read_csv('../../datasets/acm_demo.csv')\n",
    "dblp = pd.read_csv('../../datasets/dblp_demo.csv')"
   ]
  },
  {
   "cell_type": "code",
   "execution_count": 4,
   "metadata": {
    "ExecuteTime": {
     "end_time": "2017-10-26T21:23:05.997731Z",
     "start_time": "2017-10-26T16:23:05.907347-05:00"
    }
   },
   "outputs": [],
   "source": [
    "from downsample.sampler import *"
   ]
  },
  {
   "cell_type": "code",
   "execution_count": 5,
   "metadata": {
    "ExecuteTime": {
     "end_time": "2017-10-26T21:23:06.437544Z",
     "start_time": "2017-10-26T16:23:06.429904-05:00"
    }
   },
   "outputs": [],
   "source": [
    "dblp['id'] = list(range(len(dblp)))\n",
    "acm['id'] = list(range(len(acm)))"
   ]
  },
  {
   "cell_type": "code",
   "execution_count": 6,
   "metadata": {
    "ExecuteTime": {
     "end_time": "2017-10-26T21:23:06.993556Z",
     "start_time": "2017-10-26T16:23:06.963543-05:00"
    }
   },
   "outputs": [],
   "source": [
    "df1 = concat_string_attrs_comp_len(dblp, 'id', 'strlens')"
   ]
  },
  {
   "cell_type": "code",
   "execution_count": 7,
   "metadata": {
    "ExecuteTime": {
     "end_time": "2017-10-26T21:23:07.623883Z",
     "start_time": "2017-10-26T16:23:07.475066-05:00"
    }
   },
   "outputs": [],
   "source": [
    "%matplotlib inline"
   ]
  },
  {
   "cell_type": "code",
   "execution_count": 8,
   "metadata": {
    "ExecuteTime": {
     "end_time": "2017-10-26T21:23:08.325706Z",
     "start_time": "2017-10-26T16:23:08.011469-05:00"
    }
   },
   "outputs": [
    {
     "data": {
      "text/plain": [
       "<matplotlib.axes._subplots.AxesSubplot at 0x10fb9fb10>"
      ]
     },
     "execution_count": 8,
     "metadata": {},
     "output_type": "execute_result"
    },
    {
     "data": {
      "image/png": "[encoded data removed]",
      "text/plain": [
       "<matplotlib.figure.Figure at 0x10fb9f310>"
      ]
     },
     "metadata": {},
     "output_type": "display_data"
    }
   ],
   "source": [
    "df1.strlens.hist()"
   ]
  },
  {
   "cell_type": "code",
   "execution_count": 9,
   "metadata": {
    "ExecuteTime": {
     "end_time": "2017-10-26T21:23:09.415516Z",
     "start_time": "2017-10-26T16:23:09.043190-05:00"
    }
   },
   "outputs": [
    {
     "data": {
      "text/plain": [
       "<matplotlib.axes._subplots.AxesSubplot at 0x111d7ca10>"
      ]
     },
     "execution_count": 9,
     "metadata": {},
     "output_type": "execute_result"
    },
    {
     "data": {
      "image/png": "[encoded data removed]",
      "text/plain": [
       "<matplotlib.figure.Figure at 0x10fca1790>"
      ]
     },
     "metadata": {},
     "output_type": "display_data"
    }
   ],
   "source": [
    "l_sample = sample_stratified_length(dblp, 'id', nbins=50)\n",
    "d2 = concat_string_attrs_comp_len(l_sample, 'id', 'strlens')\n",
    "d2.strlens.hist()"
   ]
  },
  {
   "cell_type": "code",
   "execution_count": 11,
   "metadata": {
    "ExecuteTime": {
     "end_time": "2017-10-26T21:23:23.927261Z",
     "start_time": "2017-10-26T16:23:23.469882-05:00"
    }
   },
   "outputs": [
    {
     "data": {
      "text/plain": [
       "<matplotlib.axes._subplots.AxesSubplot at 0x111eac850>"
      ]
     },
     "execution_count": 11,
     "metadata": {},
     "output_type": "execute_result"
    },
    {
     "data": {
      "image/png": "[encoded data removed]",
      "text/plain": [
       "<matplotlib.figure.Figure at 0x111dd0190>"
      ]
     },
     "metadata": {},
     "output_type": "display_data"
    }
   ],
   "source": [
    "stopwords =  ['a', 'an', 'and', 'are', 'as', 'at', 'be', 'by', 'for', 'from', 'has',\n",
    "              'he', 'in', 'is', 'it', 'its', 'on', 'that', 'the', 'to', 'of', 'was',\n",
    "              'were', 'will', 'with']\n",
    "df3 = concat_strings_comp_probelen(acm, dblp, 'id', 'problen', stopwords, stopwords)\n",
    "df3.problen.hist()"
   ]
  },
  {
   "cell_type": "code",
   "execution_count": 23,
   "metadata": {
    "ExecuteTime": {
     "end_time": "2017-10-26T21:29:53.433020Z",
     "start_time": "2017-10-26T16:29:53.249673-05:00"
    }
   },
   "outputs": [],
   "source": [
    "r_sample = sample_stratified_probelen(acm, l_sample, 'id', 0.1, nbins=50, lstopwords=stopwords, rstopwords=stopwords)\n",
    "df4 = concat_strings_comp_probelen(r_sample, l_sample, 'id', 'problen', stopwords, stopwords)\n"
   ]
  },
  {
   "cell_type": "code",
   "execution_count": null,
   "metadata": {},
   "outputs": [],
   "source": [
    "l_sample."
   ]
  },
  {
   "cell_type": "code",
   "execution_count": 24,
   "metadata": {
    "ExecuteTime": {
     "end_time": "2017-10-26T21:29:54.671786Z",
     "start_time": "2017-10-26T16:29:54.337211-05:00"
    }
   },
   "outputs": [
    {
     "data": {
      "text/plain": [
       "<matplotlib.axes._subplots.AxesSubplot at 0x112831b10>"
      ]
     },
     "execution_count": 24,
     "metadata": {},
     "output_type": "execute_result"
    },
    {
     "data": {
      "image/png": "[encoded data removed]",
      "text/plain": [
       "<matplotlib.figure.Figure at 0x11245a050>"
      ]
     },
     "metadata": {},
     "output_type": "display_data"
    }
   ],
   "source": [
    "df4.problen.hist()"
   ]
  },
  {
   "cell_type": "code",
   "execution_count": null,
   "metadata": {},
   "outputs": [],
   "source": [
    "r_sample."
   ]
  }
 ],
 "metadata": {
  "kernelspec": {
   "display_name": "Python 2",
   "language": "python",
   "name": "python2"
  },
  "language_info": {
   "codemirror_mode": {
    "name": "ipython",
    "version": 2
   },
   "file_extension": ".py",
   "mimetype": "text/x-python",
   "name": "python",
   "nbconvert_exporter": "python",
   "pygments_lexer": "ipython2",
   "version": "2.7.13"
  }
 },
 "nbformat": 4,
 "nbformat_minor": 2
}
