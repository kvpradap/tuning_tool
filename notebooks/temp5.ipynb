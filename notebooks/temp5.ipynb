{
 "cells": [
  {
   "cell_type": "code",
   "execution_count": 7,
   "metadata": {
    "collapsed": true
   },
   "outputs": [],
   "source": [
    "import pickle"
   ]
  },
  {
   "cell_type": "code",
   "execution_count": 8,
   "metadata": {},
   "outputs": [],
   "source": [
    "pkl_file = open('t.pkl', 'rb')\n",
    "prof = pickle.load(pkl_file)"
   ]
  },
  {
   "cell_type": "code",
   "execution_count": 9,
   "metadata": {},
   "outputs": [
    {
     "data": {
      "text/html": [
       "<div style=\"display: table;\"><div style=\"display: table-row;\"><div style=\"display: table-cell;\"><b title=\"bokeh.plotting.figure.Figure\">Figure</b>(</div><div style=\"display: table-cell;\">id&nbsp;=&nbsp;'2b68e2b7-0cc5-4697-bb22-77d406339d3e', <span id=\"12a720ee-9025-4202-ac8a-03db22a901cd\" style=\"cursor: pointer;\">&hellip;)</span></div></div><div class=\"673ce969-76c9-427a-8dc3-ee8ba1f69fdf\" style=\"display: none;\"><div style=\"display: table-cell;\"></div><div style=\"display: table-cell;\">above&nbsp;=&nbsp;[],</div></div><div class=\"673ce969-76c9-427a-8dc3-ee8ba1f69fdf\" style=\"display: none;\"><div style=\"display: table-cell;\"></div><div style=\"display: table-cell;\">background_fill_alpha&nbsp;=&nbsp;{'value': 1.0},</div></div><div class=\"673ce969-76c9-427a-8dc3-ee8ba1f69fdf\" style=\"display: none;\"><div style=\"display: table-cell;\"></div><div style=\"display: table-cell;\">background_fill_color&nbsp;=&nbsp;{'value': '#ffffff'},</div></div><div class=\"673ce969-76c9-427a-8dc3-ee8ba1f69fdf\" style=\"display: none;\"><div style=\"display: table-cell;\"></div><div style=\"display: table-cell;\">below&nbsp;=&nbsp;[LinearAxis(id='76871c6c-1ac2-46a9-9708-a1a5966ea3e7', ...)],</div></div><div class=\"673ce969-76c9-427a-8dc3-ee8ba1f69fdf\" style=\"display: none;\"><div style=\"display: table-cell;\"></div><div style=\"display: table-cell;\">border_fill_alpha&nbsp;=&nbsp;{'value': 1.0},</div></div><div class=\"673ce969-76c9-427a-8dc3-ee8ba1f69fdf\" style=\"display: none;\"><div style=\"display: table-cell;\"></div><div style=\"display: table-cell;\">border_fill_color&nbsp;=&nbsp;{'value': '#ffffff'},</div></div><div class=\"673ce969-76c9-427a-8dc3-ee8ba1f69fdf\" style=\"display: none;\"><div style=\"display: table-cell;\"></div><div style=\"display: table-cell;\">css_classes&nbsp;=&nbsp;None,</div></div><div class=\"673ce969-76c9-427a-8dc3-ee8ba1f69fdf\" style=\"display: none;\"><div style=\"display: table-cell;\"></div><div style=\"display: table-cell;\">disabled&nbsp;=&nbsp;False,</div></div><div class=\"673ce969-76c9-427a-8dc3-ee8ba1f69fdf\" style=\"display: none;\"><div style=\"display: table-cell;\"></div><div style=\"display: table-cell;\">extra_x_ranges&nbsp;=&nbsp;{},</div></div><div class=\"673ce969-76c9-427a-8dc3-ee8ba1f69fdf\" style=\"display: none;\"><div style=\"display: table-cell;\"></div><div style=\"display: table-cell;\">extra_y_ranges&nbsp;=&nbsp;{},</div></div><div class=\"673ce969-76c9-427a-8dc3-ee8ba1f69fdf\" style=\"display: none;\"><div style=\"display: table-cell;\"></div><div style=\"display: table-cell;\">h_symmetry&nbsp;=&nbsp;True,</div></div><div class=\"673ce969-76c9-427a-8dc3-ee8ba1f69fdf\" style=\"display: none;\"><div style=\"display: table-cell;\"></div><div style=\"display: table-cell;\">height&nbsp;=&nbsp;None,</div></div><div class=\"673ce969-76c9-427a-8dc3-ee8ba1f69fdf\" style=\"display: none;\"><div style=\"display: table-cell;\"></div><div style=\"display: table-cell;\">hidpi&nbsp;=&nbsp;True,</div></div><div class=\"673ce969-76c9-427a-8dc3-ee8ba1f69fdf\" style=\"display: none;\"><div style=\"display: table-cell;\"></div><div style=\"display: table-cell;\">js_event_callbacks&nbsp;=&nbsp;{},</div></div><div class=\"673ce969-76c9-427a-8dc3-ee8ba1f69fdf\" style=\"display: none;\"><div style=\"display: table-cell;\"></div><div style=\"display: table-cell;\">js_property_callbacks&nbsp;=&nbsp;{},</div></div><div class=\"673ce969-76c9-427a-8dc3-ee8ba1f69fdf\" style=\"display: none;\"><div style=\"display: table-cell;\"></div><div style=\"display: table-cell;\">left&nbsp;=&nbsp;[CategoricalAxis(id='c773552b-f49f-436b-99c3-722c0190365b', ...)],</div></div><div class=\"673ce969-76c9-427a-8dc3-ee8ba1f69fdf\" style=\"display: none;\"><div style=\"display: table-cell;\"></div><div style=\"display: table-cell;\">lod_factor&nbsp;=&nbsp;10,</div></div><div class=\"673ce969-76c9-427a-8dc3-ee8ba1f69fdf\" style=\"display: none;\"><div style=\"display: table-cell;\"></div><div style=\"display: table-cell;\">lod_interval&nbsp;=&nbsp;300,</div></div><div class=\"673ce969-76c9-427a-8dc3-ee8ba1f69fdf\" style=\"display: none;\"><div style=\"display: table-cell;\"></div><div style=\"display: table-cell;\">lod_threshold&nbsp;=&nbsp;2000,</div></div><div class=\"673ce969-76c9-427a-8dc3-ee8ba1f69fdf\" style=\"display: none;\"><div style=\"display: table-cell;\"></div><div style=\"display: table-cell;\">lod_timeout&nbsp;=&nbsp;500,</div></div><div class=\"673ce969-76c9-427a-8dc3-ee8ba1f69fdf\" style=\"display: none;\"><div style=\"display: table-cell;\"></div><div style=\"display: table-cell;\">min_border&nbsp;=&nbsp;5,</div></div><div class=\"673ce969-76c9-427a-8dc3-ee8ba1f69fdf\" style=\"display: none;\"><div style=\"display: table-cell;\"></div><div style=\"display: table-cell;\">min_border_bottom&nbsp;=&nbsp;None,</div></div><div class=\"673ce969-76c9-427a-8dc3-ee8ba1f69fdf\" style=\"display: none;\"><div style=\"display: table-cell;\"></div><div style=\"display: table-cell;\">min_border_left&nbsp;=&nbsp;None,</div></div><div class=\"673ce969-76c9-427a-8dc3-ee8ba1f69fdf\" style=\"display: none;\"><div style=\"display: table-cell;\"></div><div style=\"display: table-cell;\">min_border_right&nbsp;=&nbsp;None,</div></div><div class=\"673ce969-76c9-427a-8dc3-ee8ba1f69fdf\" style=\"display: none;\"><div style=\"display: table-cell;\"></div><div style=\"display: table-cell;\">min_border_top&nbsp;=&nbsp;None,</div></div><div class=\"673ce969-76c9-427a-8dc3-ee8ba1f69fdf\" style=\"display: none;\"><div style=\"display: table-cell;\"></div><div style=\"display: table-cell;\">name&nbsp;=&nbsp;None,</div></div><div class=\"673ce969-76c9-427a-8dc3-ee8ba1f69fdf\" style=\"display: none;\"><div style=\"display: table-cell;\"></div><div style=\"display: table-cell;\">outline_line_alpha&nbsp;=&nbsp;{'value': 1.0},</div></div><div class=\"673ce969-76c9-427a-8dc3-ee8ba1f69fdf\" style=\"display: none;\"><div style=\"display: table-cell;\"></div><div style=\"display: table-cell;\">outline_line_cap&nbsp;=&nbsp;'butt',</div></div><div class=\"673ce969-76c9-427a-8dc3-ee8ba1f69fdf\" style=\"display: none;\"><div style=\"display: table-cell;\"></div><div style=\"display: table-cell;\">outline_line_color&nbsp;=&nbsp;{'value': '#e5e5e5'},</div></div><div class=\"673ce969-76c9-427a-8dc3-ee8ba1f69fdf\" style=\"display: none;\"><div style=\"display: table-cell;\"></div><div style=\"display: table-cell;\">outline_line_dash&nbsp;=&nbsp;[],</div></div><div class=\"673ce969-76c9-427a-8dc3-ee8ba1f69fdf\" style=\"display: none;\"><div style=\"display: table-cell;\"></div><div style=\"display: table-cell;\">outline_line_dash_offset&nbsp;=&nbsp;0,</div></div><div class=\"673ce969-76c9-427a-8dc3-ee8ba1f69fdf\" style=\"display: none;\"><div style=\"display: table-cell;\"></div><div style=\"display: table-cell;\">outline_line_join&nbsp;=&nbsp;'miter',</div></div><div class=\"673ce969-76c9-427a-8dc3-ee8ba1f69fdf\" style=\"display: none;\"><div style=\"display: table-cell;\"></div><div style=\"display: table-cell;\">outline_line_width&nbsp;=&nbsp;{'value': 1},</div></div><div class=\"673ce969-76c9-427a-8dc3-ee8ba1f69fdf\" style=\"display: none;\"><div style=\"display: table-cell;\"></div><div style=\"display: table-cell;\">plot_height&nbsp;=&nbsp;300,</div></div><div class=\"673ce969-76c9-427a-8dc3-ee8ba1f69fdf\" style=\"display: none;\"><div style=\"display: table-cell;\"></div><div style=\"display: table-cell;\">plot_width&nbsp;=&nbsp;800,</div></div><div class=\"673ce969-76c9-427a-8dc3-ee8ba1f69fdf\" style=\"display: none;\"><div style=\"display: table-cell;\"></div><div style=\"display: table-cell;\">renderers&nbsp;=&nbsp;[LinearAxis(id='76871c6c-1ac2-46a9-9708-a1a5966ea3e7', ...), Grid(id='6fc220d2-ae50-4605-816a-d0d85b02567c', ...), CategoricalAxis(id='c773552b-f49f-436b-99c3-722c0190365b', ...), Grid(id='5c165cae-ab8f-4e1f-962f-ba09d4d1735d', ...), GlyphRenderer(id='9d54d3df-f7af-45a8-b9c5-7dfc92954c6c', ...)],</div></div><div class=\"673ce969-76c9-427a-8dc3-ee8ba1f69fdf\" style=\"display: none;\"><div style=\"display: table-cell;\"></div><div style=\"display: table-cell;\">right&nbsp;=&nbsp;[],</div></div><div class=\"673ce969-76c9-427a-8dc3-ee8ba1f69fdf\" style=\"display: none;\"><div style=\"display: table-cell;\"></div><div style=\"display: table-cell;\">sizing_mode&nbsp;=&nbsp;'fixed',</div></div><div class=\"673ce969-76c9-427a-8dc3-ee8ba1f69fdf\" style=\"display: none;\"><div style=\"display: table-cell;\"></div><div style=\"display: table-cell;\">subscribed_events&nbsp;=&nbsp;[],</div></div><div class=\"673ce969-76c9-427a-8dc3-ee8ba1f69fdf\" style=\"display: none;\"><div style=\"display: table-cell;\"></div><div style=\"display: table-cell;\">tags&nbsp;=&nbsp;[],</div></div><div class=\"673ce969-76c9-427a-8dc3-ee8ba1f69fdf\" style=\"display: none;\"><div style=\"display: table-cell;\"></div><div style=\"display: table-cell;\">title&nbsp;=&nbsp;Title(id='f690dc57-0ecf-42ce-9abb-25acb2651282', ...),</div></div><div class=\"673ce969-76c9-427a-8dc3-ee8ba1f69fdf\" style=\"display: none;\"><div style=\"display: table-cell;\"></div><div style=\"display: table-cell;\">title_location&nbsp;=&nbsp;'above',</div></div><div class=\"673ce969-76c9-427a-8dc3-ee8ba1f69fdf\" style=\"display: none;\"><div style=\"display: table-cell;\"></div><div style=\"display: table-cell;\">tool_events&nbsp;=&nbsp;ToolEvents(id='ba55629f-31df-42c7-b72c-4af340e05095', ...),</div></div><div class=\"673ce969-76c9-427a-8dc3-ee8ba1f69fdf\" style=\"display: none;\"><div style=\"display: table-cell;\"></div><div style=\"display: table-cell;\">toolbar&nbsp;=&nbsp;Toolbar(id='2a73a30a-9b86-4831-ae95-2120a531567d', ...),</div></div><div class=\"673ce969-76c9-427a-8dc3-ee8ba1f69fdf\" style=\"display: none;\"><div style=\"display: table-cell;\"></div><div style=\"display: table-cell;\">toolbar_location&nbsp;=&nbsp;'right',</div></div><div class=\"673ce969-76c9-427a-8dc3-ee8ba1f69fdf\" style=\"display: none;\"><div style=\"display: table-cell;\"></div><div style=\"display: table-cell;\">toolbar_sticky&nbsp;=&nbsp;True,</div></div><div class=\"673ce969-76c9-427a-8dc3-ee8ba1f69fdf\" style=\"display: none;\"><div style=\"display: table-cell;\"></div><div style=\"display: table-cell;\">v_symmetry&nbsp;=&nbsp;False,</div></div><div class=\"673ce969-76c9-427a-8dc3-ee8ba1f69fdf\" style=\"display: none;\"><div style=\"display: table-cell;\"></div><div style=\"display: table-cell;\">webgl&nbsp;=&nbsp;False,</div></div><div class=\"673ce969-76c9-427a-8dc3-ee8ba1f69fdf\" style=\"display: none;\"><div style=\"display: table-cell;\"></div><div style=\"display: table-cell;\">width&nbsp;=&nbsp;None,</div></div><div class=\"673ce969-76c9-427a-8dc3-ee8ba1f69fdf\" style=\"display: none;\"><div style=\"display: table-cell;\"></div><div style=\"display: table-cell;\">x_mapper_type&nbsp;=&nbsp;'auto',</div></div><div class=\"673ce969-76c9-427a-8dc3-ee8ba1f69fdf\" style=\"display: none;\"><div style=\"display: table-cell;\"></div><div style=\"display: table-cell;\">x_range&nbsp;=&nbsp;Range1d(id='af8d37d9-bd14-4723-b03e-8db3efd7b024', ...),</div></div><div class=\"673ce969-76c9-427a-8dc3-ee8ba1f69fdf\" style=\"display: none;\"><div style=\"display: table-cell;\"></div><div style=\"display: table-cell;\">y_mapper_type&nbsp;=&nbsp;'auto',</div></div><div class=\"673ce969-76c9-427a-8dc3-ee8ba1f69fdf\" style=\"display: none;\"><div style=\"display: table-cell;\"></div><div style=\"display: table-cell;\">y_range&nbsp;=&nbsp;FactorRange(id='1b841af7-12fc-41ba-85fa-7f29d9430c5c', ...))</div></div></div>\n",
       "<script>\n",
       "(function() {\n",
       "  var expanded = false;\n",
       "  var ellipsis = document.getElementById(\"12a720ee-9025-4202-ac8a-03db22a901cd\");\n",
       "  ellipsis.addEventListener(\"click\", function() {\n",
       "    var rows = document.getElementsByClassName(\"673ce969-76c9-427a-8dc3-ee8ba1f69fdf\");\n",
       "    for (var i = 0; i < rows.length; i++) {\n",
       "      var el = rows[i];\n",
       "      el.style.display = expanded ? \"none\" : \"table-row\";\n",
       "    }\n",
       "    ellipsis.innerHTML = expanded ? \"&hellip;)\" : \"&lsaquo;&lsaquo;&lsaquo;\";\n",
       "    expanded = !expanded;\n",
       "  });\n",
       "})();\n",
       "</script>\n"
      ],
      "text/plain": [
       "Figure(id='2b68e2b7-0cc5-4697-bb22-77d406339d3e', ...)"
      ]
     },
     "execution_count": 9,
     "metadata": {},
     "output_type": "execute_result"
    }
   ],
   "source": [
    "prof.visualize()"
   ]
  }
 ],
 "metadata": {
  "kernelspec": {
   "display_name": "Python 2",
   "language": "python",
   "name": "python2"
  },
  "language_info": {
   "codemirror_mode": {
    "name": "ipython",
    "version": 2
   },
   "file_extension": ".py",
   "mimetype": "text/x-python",
   "name": "python",
   "nbconvert_exporter": "python",
   "pygments_lexer": "ipython2",
   "version": "2.7.13"
  }
 },
 "nbformat": 4,
 "nbformat_minor": 2
}
