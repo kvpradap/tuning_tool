{
 "cells": [
  {
   "cell_type": "code",
   "execution_count": 6,
   "metadata": {
    "collapsed": true
   },
   "outputs": [],
   "source": [
    "import inspect\n",
    "def get_default_args(func):\n",
    "    \"\"\"\n",
    "    returns a dictionary of arg_name:default_values for the input function\n",
    "    \"\"\"\n",
    "    args, varargs, keywords, defaults = inspect.getargspec(func)\n",
    "    return dict(zip(args[-len(defaults):], defaults))\n",
    "def get_func_args(func):\n",
    "    return inspect.getargspec(func)[0]"
   ]
  },
  {
   "cell_type": "code",
   "execution_count": 2,
   "metadata": {
    "collapsed": true
   },
   "outputs": [],
   "source": [
    "import dmagellan"
   ]
  },
  {
   "cell_type": "code",
   "execution_count": 3,
   "metadata": {
    "collapsed": true
   },
   "outputs": [],
   "source": [
    "from dmagellan.blocker.attrequivalence.attr_equiv_blocker import AttrEquivalenceBlocker"
   ]
  },
  {
   "cell_type": "code",
   "execution_count": null,
   "metadata": {
    "collapsed": true
   },
   "outputs": [],
   "source": [
    "from dmagellan.feature.extractfeatures.extract_feature_vecs"
   ]
  },
  {
   "cell_type": "code",
   "execution_count": 4,
   "metadata": {
    "collapsed": true
   },
   "outputs": [],
   "source": [
    "ab = AttrEquivalenceBlocker()"
   ]
  },
  {
   "cell_type": "code",
   "execution_count": 5,
   "metadata": {},
   "outputs": [
    {
     "data": {
      "text/plain": [
       "{'cache_size': 1000000000.0,\n",
       " 'compute': False,\n",
       " 'l_output_attrs': None,\n",
       " 'l_output_prefix': 'l_',\n",
       " 'nltable_chunks': 1,\n",
       " 'nrtable_chunks': 1,\n",
       " 'num_workers': None,\n",
       " 'r_output_attrs': None,\n",
       " 'r_output_prefix': 'r_',\n",
       " 'scheduler': <function dask.threaded.get>,\n",
       " 'show_progress': True}"
      ]
     },
     "execution_count": 5,
     "metadata": {},
     "output_type": "execute_result"
    }
   ],
   "source": [
    "get_default_args(ab.block_tables)"
   ]
  },
  {
   "cell_type": "code",
   "execution_count": 7,
   "metadata": {},
   "outputs": [
    {
     "data": {
      "text/plain": [
       "['self',\n",
       " 'ltable',\n",
       " 'rtable',\n",
       " 'l_key',\n",
       " 'r_key',\n",
       " 'l_block_attr',\n",
       " 'r_block_attr',\n",
       " 'l_output_attrs',\n",
       " 'r_output_attrs',\n",
       " 'l_output_prefix',\n",
       " 'r_output_prefix',\n",
       " 'nltable_chunks',\n",
       " 'nrtable_chunks',\n",
       " 'scheduler',\n",
       " 'num_workers',\n",
       " 'cache_size',\n",
       " 'compute',\n",
       " 'show_progress']"
      ]
     },
     "execution_count": 7,
     "metadata": {},
     "output_type": "execute_result"
    }
   ],
   "source": [
    "get_func_args(ab.block_tables)"
   ]
  }
 ],
 "metadata": {
  "kernelspec": {
   "display_name": "Python 2",
   "language": "python",
   "name": "python2"
  },
  "language_info": {
   "codemirror_mode": {
    "name": "ipython",
    "version": 2
   },
   "file_extension": ".py",
   "mimetype": "text/x-python",
   "name": "python",
   "nbconvert_exporter": "python",
   "pygments_lexer": "ipython2",
   "version": "2.7.13"
  }
 },
 "nbformat": 4,
 "nbformat_minor": 2
}
