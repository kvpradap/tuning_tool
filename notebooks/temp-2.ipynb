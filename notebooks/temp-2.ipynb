{
 "cells": [
  {
   "cell_type": "code",
   "execution_count": 1,
   "metadata": {
    "collapsed": true
   },
   "outputs": [],
   "source": [
    "import inspect\n",
    "def get_default_args(func):\n",
    "    \"\"\"\n",
    "    returns a dictionary of arg_name:default_values for the input function\n",
    "    \"\"\"\n",
    "    args, varargs, keywords, defaults = inspect.getargspec(func)\n",
    "    return dict(zip(args[-len(defaults):], defaults))\n",
    "def get_func_args(func):\n",
    "    return inspect.getargspec(func)[0]\n",
    "\n",
    "def get_class_that_defined_method(meth):\n",
    "    for cls in inspect.getmro(meth.im_class):\n",
    "        if meth.__name__ in cls.__dict__: \n",
    "            return cls\n",
    "    return None"
   ]
  },
  {
   "cell_type": "code",
   "execution_count": null,
   "metadata": {
    "collapsed": true
   },
   "outputs": [],
   "source": [
    "def get_class_func_name(command):\n",
    "    name = command.__name__\n",
    "    cls_name = None\n",
    "    if name == 'block_tables':\n",
    "        cls_name = command.im_class.__name__\n",
    "    return name, cls_name\n",
    "    \n",
    "        "
   ]
  },
  {
   "cell_type": "code",
   "execution_count": null,
   "metadata": {
    "collapsed": true
   },
   "outputs": [],
   "source": [
    "sample_size_setting = \n",
    "{\n",
    "    'block_tables':{\n",
    "        'AttrEquivalenceBlocker':[(0.1, 0.1), (0.3, 0.3), (0.5, 0.5), (0.7, 0.7), (0.9, 0.9)]\n",
    "        'RuleBasedBlocker':[(1, 0.1), (1, 0.3), (1, 0.5), (1, 0.7), (1, 0.9)]\n",
    "        'BlacBoxBlocker':[(0.01, 0.01), (0.05, 0.05), (0.1, 0.1), (0.15, 0.15), (0.2, 0.2)]\n",
    "        'OverlapBlocker':[(1, 0.1), (1, 0.3), (1, 0.5), (1, 0.7), (1, 0.9)]\n",
    "    },\n",
    "    'block_candset': [0.01, 0.05, 0.1, 0.15, 0.2]\n",
    "    'downsample':[(1, 0.2), (1, 0.3), (1, 0.5), (1, 0.7), (1, 0.9)]\n",
    "    'extract_feature_vecs': [0.01, 0.05, 0.1, 0.15, 0.2]\n",
    "    'predict':[0.01, 0.05, 0.1, 0.15, 0.2]\n",
    "}"
   ]
  },
  {
   "cell_type": "code",
   "execution_count": 10,
   "metadata": {
    "collapsed": true
   },
   "outputs": [],
   "source": [
    "from dmagellan.blocker.attrequivalence.attr_equiv_blocker import AttrEquivalenceBlocker\n",
    "ab = AttrEquivalenceBlocker()\n",
    "A = []\n",
    "B = []"
   ]
  },
  {
   "cell_type": "code",
   "execution_count": 9,
   "metadata": {},
   "outputs": [],
   "source": [
    "def tune_params(command, args_dict):\n",
    "    default_args = get_default_args(command)\n",
    "    func_args = get_func_args(command)\n",
    "    \n",
    "    pass"
   ]
  },
  {
   "cell_type": "code",
   "execution_count": 11,
   "metadata": {
    "collapsed": true
   },
   "outputs": [],
   "source": [
    "command = ab.block_tables\n",
    "d = {'ltable':A, 'rtable':B,  'l_block_attr':'title', 'r_block_attr':'title', 'l_key':'ID', 'r_key':'ID', 'nltable_chunks': [1, 2, 3],\n",
    "                          'nrtable_chunks': [4, 5, 6]                          \n",
    "                         }"
   ]
  },
  {
   "cell_type": "code",
   "execution_count": 20,
   "metadata": {},
   "outputs": [],
   "source": [
    "default_args = get_default_args(command)\n",
    "args = get_func_args(command)\n",
    "args.remove('self')\n",
    "required_args = set(args).difference(default_args.keys())\n",
    "if len(set(required_args).difference(d.keys())) > 0:\n",
    "    print('SOMETHING IS WRONG')\n",
    "f = default_args\n",
    "for k, v in d.iteritems():\n",
    "    f[k] = v\n",
    "    "
   ]
  },
  {
   "cell_type": "code",
   "execution_count": 21,
   "metadata": {},
   "outputs": [
    {
     "data": {
      "text/plain": [
       "{'cache_size': 1000000000.0,\n",
       " 'compute': False,\n",
       " 'l_block_attr': 'title',\n",
       " 'l_key': 'ID',\n",
       " 'l_output_attrs': None,\n",
       " 'l_output_prefix': 'l_',\n",
       " 'ltable': [],\n",
       " 'nltable_chunks': [1, 2, 3],\n",
       " 'nrtable_chunks': [4, 5, 6],\n",
       " 'num_workers': None,\n",
       " 'r_block_attr': 'title',\n",
       " 'r_key': 'ID',\n",
       " 'r_output_attrs': None,\n",
       " 'r_output_prefix': 'r_',\n",
       " 'rtable': [],\n",
       " 'scheduler': <function dask.threaded.get>,\n",
       " 'show_progress': True}"
      ]
     },
     "execution_count": 21,
     "metadata": {},
     "output_type": "execute_result"
    }
   ],
   "source": []
  },
  {
   "cell_type": "code",
   "execution_count": 48,
   "metadata": {
    "collapsed": true
   },
   "outputs": [],
   "source": [
    "from dmagellan.sampler.downsample import downsample"
   ]
  },
  {
   "cell_type": "code",
   "execution_count": 63,
   "metadata": {},
   "outputs": [
    {
     "data": {
      "text/plain": [
       "'AttrEquivalenceBlocker'"
      ]
     },
     "execution_count": 63,
     "metadata": {},
     "output_type": "execute_result"
    }
   ],
   "source": [
    "meth = ab.block_tables\n",
    "'block_tables' in str(meth.im_func)\n",
    "# meth.__name__\n",
    "meth.im_class.__name__"
   ]
  },
  {
   "cell_type": "code",
   "execution_count": 59,
   "metadata": {},
   "outputs": [
    {
     "data": {
      "text/plain": [
       "dmagellan.blocker.attrequivalence.attr_equiv_blocker.AttrEquivalenceBlocker"
      ]
     },
     "execution_count": 59,
     "metadata": {},
     "output_type": "execute_result"
    }
   ],
   "source": [
    "get_class_that_defined_method(ab.block_tables)"
   ]
  },
  {
   "cell_type": "code",
   "execution_count": 52,
   "metadata": {},
   "outputs": [],
   "source": [
    "meth = downsample"
   ]
  },
  {
   "cell_type": "code",
   "execution_count": 55,
   "metadata": {},
   "outputs": [
    {
     "data": {
      "text/plain": [
       "'dmagellan.sampler.downsample.downsample'"
      ]
     },
     "execution_count": 55,
     "metadata": {},
     "output_type": "execute_result"
    }
   ],
   "source": [
    "meth.__name__"
   ]
  },
  {
   "cell_type": "code",
   "execution_count": null,
   "metadata": {
    "collapsed": true
   },
   "outputs": [],
   "source": []
  },
  {
   "cell_type": "code",
   "execution_count": 38,
   "metadata": {},
   "outputs": [
    {
     "data": {
      "text/plain": [
       "\"<class 'dmagellan.blocker.attrequivalence.attr_equiv_blocker.AttrEquivalenceBlocker'>\""
      ]
     },
     "execution_count": 38,
     "metadata": {},
     "output_type": "execute_result"
    }
   ],
   "source": [
    "str((get_class_that_defined_method(ab.block_tables)) )"
   ]
  },
  {
   "cell_type": "code",
   "execution_count": 25,
   "metadata": {},
   "outputs": [],
   "source": [
    "if 'nltable_chunks' in f and 'nrtable_chunks' in f:\n",
    "    x= f['nltable_chunks'], f['nrtable_chunks']"
   ]
  },
  {
   "cell_type": "code",
   "execution_count": 29,
   "metadata": {
    "collapsed": true
   },
   "outputs": [],
   "source": [
    "ab1 = AttrEquivalenceBlocker()"
   ]
  },
  {
   "cell_type": "code",
   "execution_count": 30,
   "metadata": {},
   "outputs": [
    {
     "ename": "TypeError",
     "evalue": "isinstance() arg 2 must be a class, type, or tuple of classes and types",
     "output_type": "error",
     "traceback": [
      "\u001b[0;31m---------------------------------------------------------------------------\u001b[0m",
      "\u001b[0;31mTypeError\u001b[0m                                 Traceback (most recent call last)",
      "\u001b[0;32m<ipython-input-30-ba2d40406be8>\u001b[0m in \u001b[0;36m<module>\u001b[0;34m()\u001b[0m\n\u001b[0;32m----> 1\u001b[0;31m \u001b[0misinstance\u001b[0m\u001b[0;34m(\u001b[0m\u001b[0mab\u001b[0m\u001b[0;34m.\u001b[0m\u001b[0mblock_tables\u001b[0m\u001b[0;34m,\u001b[0m \u001b[0mab1\u001b[0m\u001b[0;34m.\u001b[0m\u001b[0mblock_tables\u001b[0m\u001b[0;34m)\u001b[0m\u001b[0;34m\u001b[0m\u001b[0m\n\u001b[0m",
      "\u001b[0;31mTypeError\u001b[0m: isinstance() arg 2 must be a class, type, or tuple of classes and types"
     ]
    }
   ],
   "source": [
    "isinstance(ab.block_tables, ab1.block_tables)"
   ]
  }
 ],
 "metadata": {
  "kernelspec": {
   "display_name": "Python 2",
   "language": "python",
   "name": "python2"
  },
  "language_info": {
   "codemirror_mode": {
    "name": "ipython",
    "version": 2
   },
   "file_extension": ".py",
   "mimetype": "text/x-python",
   "name": "python",
   "nbconvert_exporter": "python",
   "pygments_lexer": "ipython2",
   "version": "2.7.13"
  }
 },
 "nbformat": 4,
 "nbformat_minor": 2
}
